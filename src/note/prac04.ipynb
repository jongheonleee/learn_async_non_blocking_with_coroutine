{
 "cells": [
  {
   "cell_type": "code",
   "metadata": {
    "collapsed": true,
    "ExecuteTime": {
     "end_time": "2025-04-24T12:11:20.109496Z",
     "start_time": "2025-04-24T12:11:19.783265Z"
    }
   },
   "source": [
    "import kotlin.random.Random\n",
    "import kotlinx.coroutines.*\n",
    "import kotlinx.coroutines.flow.*\n",
    "\n",
    "fun flowSomething(): Flow<Int> = flow {\n",
    "    repeat(10) {\n",
    "        emit(Random.nextInt(0, 500))\n",
    "        delay(10L)\n",
    "    }\n",
    "}\n",
    "\n",
    "runBlocking {\n",
    "    flowSomething().collect { println(it) }\n",
    "}\n"
   ],
   "outputs": [
    {
     "name": "stdout",
     "output_type": "stream",
     "text": [
      "122\n",
      "483\n",
      "486\n",
      "266\n",
      "329\n",
      "462\n",
      "311\n",
      "210\n",
      "267\n",
      "420\n"
     ]
    }
   ],
   "execution_count": 4
  },
  {
   "metadata": {
    "ExecuteTime": {
     "end_time": "2025-04-24T12:13:11.278781Z",
     "start_time": "2025-04-24T12:13:10.449097Z"
    }
   },
   "cell_type": "code",
   "source": [
    "fun flowSomething(): Flow<Int> = flow {\n",
    "    repeat(10) {\n",
    "        emit(Random.nextInt(0, 500))\n",
    "        delay(100L)\n",
    "    }\n",
    "}\n",
    "\n",
    "runBlocking<Unit> {\n",
    "    val res = withTimeoutOrNull(500L) {\n",
    "        flowSomething().collect {\n",
    "            println(it)\n",
    "        }\n",
    "        true\n",
    "    } ?: false\n",
    "\n",
    "    if ( ! res ) {\n",
    "        println(\"it's canceled!!\")\n",
    "    }\n",
    "}"
   ],
   "outputs": [
    {
     "name": "stdout",
     "output_type": "stream",
     "text": [
      "403\n",
      "439\n",
      "466\n",
      "389\n",
      "414\n",
      "it's canceled!!\n"
     ]
    }
   ],
   "execution_count": 5
  },
  {
   "metadata": {
    "ExecuteTime": {
     "end_time": "2025-04-24T12:14:11.157388Z",
     "start_time": "2025-04-24T12:14:10.996532Z"
    }
   },
   "cell_type": "code",
   "source": [
    "runBlocking<Unit> {\n",
    "    flowOf(1, 2, 3, 4, 5).collect {\n",
    "        println(it)\n",
    "    }\n",
    "}"
   ],
   "outputs": [
    {
     "name": "stdout",
     "output_type": "stream",
     "text": [
      "1\n",
      "2\n",
      "3\n",
      "4\n",
      "5\n"
     ]
    }
   ],
   "execution_count": 6
  },
  {
   "metadata": {
    "ExecuteTime": {
     "end_time": "2025-04-24T12:15:02.038215Z",
     "start_time": "2025-04-24T12:15:01.820437Z"
    }
   },
   "cell_type": "code",
   "source": [
    "runBlocking<Unit> {\n",
    "    listOf(1, 2, 3, 4, 5).asFlow()\n",
    "        .collect {\n",
    "            println(it)\n",
    "        }\n",
    "\n",
    "    (6..10).asFlow().collect{\n",
    "        println(it)\n",
    "    }\n",
    "}"
   ],
   "outputs": [
    {
     "name": "stdout",
     "output_type": "stream",
     "text": [
      "1\n",
      "2\n",
      "3\n",
      "4\n",
      "5\n",
      "6\n",
      "7\n",
      "8\n",
      "9\n",
      "10\n"
     ]
    }
   ],
   "execution_count": 7
  },
  {
   "metadata": {
    "ExecuteTime": {
     "end_time": "2025-04-24T12:16:40.140592Z",
     "start_time": "2025-04-24T12:16:39.740200Z"
    }
   },
   "cell_type": "code",
   "source": [
    "fun flowSomething(): Flow<Int> = flow {\n",
    "    repeat(10) {\n",
    "        emit(Random.nextInt(0, 500))\n",
    "        delay(10L)\n",
    "    }\n",
    "}\n",
    "\n",
    "runBlocking {\n",
    "    flowSomething().map {\n",
    "        \"$it $it\"\n",
    "    }.collect { println(it) }\n",
    "}"
   ],
   "outputs": [
    {
     "name": "stdout",
     "output_type": "stream",
     "text": [
      "61 61\n",
      "99 99\n",
      "440 440\n",
      "419 419\n",
      "333 333\n",
      "490 490\n",
      "161 161\n",
      "68 68\n",
      "451 451\n",
      "312 312\n"
     ]
    }
   ],
   "execution_count": 8
  },
  {
   "metadata": {
    "ExecuteTime": {
     "end_time": "2025-04-24T12:17:57.659023Z",
     "start_time": "2025-04-24T12:17:57.492840Z"
    }
   },
   "cell_type": "code",
   "source": [
    "runBlocking<Unit> {\n",
    "    (1..20).asFlow().filter {\n",
    "        (it % 2) == 0\n",
    "    }.collect {\n",
    "        println(it)\n",
    "    }\n",
    "}"
   ],
   "outputs": [
    {
     "name": "stdout",
     "output_type": "stream",
     "text": [
      "2\n",
      "4\n",
      "6\n",
      "8\n",
      "10\n",
      "12\n",
      "14\n",
      "16\n",
      "18\n",
      "20\n"
     ]
    }
   ],
   "execution_count": 9
  },
  {
   "metadata": {
    "ExecuteTime": {
     "end_time": "2025-04-24T12:18:50.499013Z",
     "start_time": "2025-04-24T12:18:50.346854Z"
    }
   },
   "cell_type": "code",
   "source": [
    "runBlocking<Unit> {\n",
    "    (1..20).asFlow().filterNot {\n",
    "        (it % 2) == 0\n",
    "    }.collect {\n",
    "        println(it)\n",
    "    }\n",
    "}"
   ],
   "outputs": [
    {
     "name": "stdout",
     "output_type": "stream",
     "text": [
      "1\n",
      "3\n",
      "5\n",
      "7\n",
      "9\n",
      "11\n",
      "13\n",
      "15\n",
      "17\n",
      "19\n"
     ]
    }
   ],
   "execution_count": 10
  },
  {
   "metadata": {
    "ExecuteTime": {
     "end_time": "2025-04-24T12:20:07.060814Z",
     "start_time": "2025-04-24T12:20:06.648173Z"
    }
   },
   "cell_type": "code",
   "source": [
    "suspend fun someCalc(i: Int): Int {\n",
    "    delay(10L)\n",
    "    return i * 2\n",
    "}\n",
    "\n",
    "runBlocking<Unit> {\n",
    "    (1..20).asFlow().transform {\n",
    "        emit(it)\n",
    "        emit(someCalc(it))\n",
    "    }.collect {\n",
    "        println(it)\n",
    "    }\n",
    "}"
   ],
   "outputs": [
    {
     "name": "stdout",
     "output_type": "stream",
     "text": [
      "1\n",
      "2\n",
      "2\n",
      "4\n",
      "3\n",
      "6\n",
      "4\n",
      "8\n",
      "5\n",
      "10\n",
      "6\n",
      "12\n",
      "7\n",
      "14\n",
      "8\n",
      "16\n",
      "9\n",
      "18\n",
      "10\n",
      "20\n",
      "11\n",
      "22\n",
      "12\n",
      "24\n",
      "13\n",
      "26\n",
      "14\n",
      "28\n",
      "15\n",
      "30\n",
      "16\n",
      "32\n",
      "17\n",
      "34\n",
      "18\n",
      "36\n",
      "19\n",
      "38\n",
      "20\n",
      "40\n"
     ]
    }
   ],
   "execution_count": 11
  },
  {
   "metadata": {
    "ExecuteTime": {
     "end_time": "2025-04-24T12:21:22.068Z",
     "start_time": "2025-04-24T12:21:21.872656Z"
    }
   },
   "cell_type": "code",
   "source": [
    "suspend fun someCalc(i: Int): Int {\n",
    "    delay(10L)\n",
    "    return i * 2\n",
    "}\n",
    "\n",
    "runBlocking<Unit> {\n",
    "    (1..20).asFlow().transform {\n",
    "        emit(it)\n",
    "        emit(someCalc(it))\n",
    "    }.take(5).collect { println(it) }\n",
    "}"
   ],
   "outputs": [
    {
     "name": "stdout",
     "output_type": "stream",
     "text": [
      "1\n",
      "2\n",
      "2\n",
      "4\n",
      "3\n"
     ]
    }
   ],
   "execution_count": 12
  },
  {
   "metadata": {
    "ExecuteTime": {
     "end_time": "2025-04-24T12:24:03.700293Z",
     "start_time": "2025-04-24T12:24:03.416256Z"
    }
   },
   "cell_type": "code",
   "source": [
    "suspend fun someCalc(i: Int): Int {\n",
    "    delay(10L)\n",
    "    return i * 2\n",
    "}\n",
    "\n",
    "runBlocking<Unit> {\n",
    "    (1..20).asFlow().transform {\n",
    "        emit(it)\n",
    "        emit(someCalc(it))\n",
    "    }.takeWhile {\n",
    "        it < 15\n",
    "    }.collect {\n",
    "        println(it)\n",
    "    }\n",
    "}"
   ],
   "outputs": [
    {
     "name": "stdout",
     "output_type": "stream",
     "text": [
      "1\n",
      "2\n",
      "2\n",
      "4\n",
      "3\n",
      "6\n",
      "4\n",
      "8\n",
      "5\n",
      "10\n",
      "6\n",
      "12\n",
      "7\n",
      "14\n",
      "8\n"
     ]
    }
   ],
   "execution_count": 13
  },
  {
   "metadata": {
    "ExecuteTime": {
     "end_time": "2025-04-24T12:28:18.553640Z",
     "start_time": "2025-04-24T12:28:18.104753Z"
    }
   },
   "cell_type": "code",
   "source": [
    "suspend fun someCalc(i: Int): Int {\n",
    "    delay(10L)\n",
    "    return i * 2\n",
    "}\n",
    "\n",
    "runBlocking<Unit> {\n",
    "    (1..20).asFlow().transform {\n",
    "        emit(it)\n",
    "        emit(someCalc(it))\n",
    "    }.drop(5)\n",
    "        .collect{\n",
    "            println(it)\n",
    "        }\n",
    "}"
   ],
   "outputs": [
    {
     "name": "stdout",
     "output_type": "stream",
     "text": [
      "6\n",
      "4\n",
      "8\n",
      "5\n",
      "10\n",
      "6\n",
      "12\n",
      "7\n",
      "14\n",
      "8\n",
      "16\n",
      "9\n",
      "18\n",
      "10\n",
      "20\n",
      "11\n",
      "22\n",
      "12\n",
      "24\n",
      "13\n",
      "26\n",
      "14\n",
      "28\n",
      "15\n",
      "30\n",
      "16\n",
      "32\n",
      "17\n",
      "34\n",
      "18\n",
      "36\n",
      "19\n",
      "38\n",
      "20\n",
      "40\n"
     ]
    }
   ],
   "execution_count": 14
  },
  {
   "metadata": {
    "ExecuteTime": {
     "end_time": "2025-04-24T12:29:26.102164Z",
     "start_time": "2025-04-24T12:29:25.963990Z"
    }
   },
   "cell_type": "code",
   "source": [
    "suspend fun someCalc(i: Int): Int {\n",
    "    delay(10L)\n",
    "    return i * 2\n",
    "}\n",
    "\n",
    "runBlocking<Unit> {\n",
    "    val value = (1..10).asFlow()\n",
    "        .reduce { a, b ->\n",
    "            a + b\n",
    "        }\n",
    "\n",
    "    println(value)\n",
    "}"
   ],
   "outputs": [
    {
     "name": "stdout",
     "output_type": "stream",
     "text": [
      "55\n"
     ]
    }
   ],
   "execution_count": 15
  },
  {
   "metadata": {
    "ExecuteTime": {
     "end_time": "2025-04-24T12:30:29.953765Z",
     "start_time": "2025-04-24T12:30:29.818245Z"
    }
   },
   "cell_type": "code",
   "source": [
    "import kotlin.random.Random\n",
    "import kotlinx.coroutines.*\n",
    "import kotlinx.coroutines.flow.*\n",
    "\n",
    "\n",
    "suspend fun someCalc(i: Int): Int {\n",
    "    delay(10L)\n",
    "    return i * 2\n",
    "}\n",
    "\n",
    "runBlocking<Unit> {\n",
    "    val value = (1..10).asFlow()\n",
    "        .fold(10) { a, b ->\n",
    "            a + b\n",
    "        }\n",
    "    println(value)\n",
    "}\n"
   ],
   "outputs": [
    {
     "name": "stdout",
     "output_type": "stream",
     "text": [
      "65\n"
     ]
    }
   ],
   "execution_count": 16
  },
  {
   "metadata": {
    "ExecuteTime": {
     "end_time": "2025-04-24T12:31:09.460615Z",
     "start_time": "2025-04-24T12:31:09.327395Z"
    }
   },
   "cell_type": "code",
   "source": [
    "runBlocking<Unit> {\n",
    "    val counter = (1..10)\n",
    "        .asFlow()\n",
    "        .count{ it % 2 == 0 }\n",
    "    println(counter)\n",
    "}"
   ],
   "outputs": [
    {
     "name": "stdout",
     "output_type": "stream",
     "text": [
      "5\n"
     ]
    }
   ],
   "execution_count": 17
  },
  {
   "metadata": {
    "ExecuteTime": {
     "end_time": "2025-04-24T12:33:41.829990Z",
     "start_time": "2025-04-24T12:33:41.575695Z"
    }
   },
   "cell_type": "code",
   "source": [
    "fun log(msg: String) = println(\"[${Thread.currentThread().name}] $msg\")\n",
    "\n",
    "fun simple(): Flow<Int> = flow {\n",
    "    log(\"let's start flow!\")\n",
    "\n",
    "    for (i in 1..10)\n",
    "        emit(i)\n",
    "\n",
    "}\n",
    "\n",
    "runBlocking<Unit> {\n",
    "    launch(Dispatchers.IO) {\n",
    "        simple()\n",
    "            .collect{\n",
    "                log(\"$it 를 받음\")\n",
    "            }\n",
    "    }\n",
    "}"
   ],
   "outputs": [],
   "execution_count": 18
  },
  {
   "metadata": {
    "ExecuteTime": {
     "end_time": "2025-04-24T12:35:09.895249Z",
     "start_time": "2025-04-24T12:35:09.641294Z"
    }
   },
   "cell_type": "code",
   "source": [
    "fun log(msg: String) = println(\"[${Thread.currentThread().name}] $msg\")\n",
    "\n",
    "fun simple(): Flow<Int> = flow {\n",
    "    withContext(Dispatchers.Default) {\n",
    "        for (i in 1..10) {\n",
    "            delay(100L)\n",
    "            emit(i)\n",
    "        }\n",
    "    }\n",
    "}\n",
    "\n",
    "runBlocking<Unit> {\n",
    "    launch(Dispatchers.IO) {\n",
    "        simple()\n",
    "            .collect { value -> log(\"${value}를 받음.\") }\n",
    "    }\n",
    "}"
   ],
   "outputs": [
    {
     "ename": "java.lang.IllegalStateException",
     "evalue": "Flow invariant is violated:\n\t\tFlow was collected in [StandaloneCoroutine{Active}@34a33fce, Dispatchers.IO],\n\t\tbut emission happened in [DispatchedCoroutine{Active}@70b6de12, Dispatchers.Default].\n\t\tPlease refer to 'flow' documentation or use 'flowOn' instead",
     "output_type": "error",
     "traceback": [
      "java.lang.IllegalStateException: Flow invariant is violated:",
      "\t\tFlow was collected in [StandaloneCoroutine{Active}@34a33fce, Dispatchers.IO],",
      "\t\tbut emission happened in [DispatchedCoroutine{Active}@70b6de12, Dispatchers.Default].",
      "\t\tPlease refer to 'flow' documentation or use 'flowOn' instead",
      "\tat kotlinx.coroutines.flow.internal.SafeCollector_commonKt.checkContext(SafeCollector.common.kt:86)",
      "\tat kotlinx.coroutines.flow.internal.SafeCollector.checkContext(SafeCollector.kt:106)",
      "\tat kotlinx.coroutines.flow.internal.SafeCollector.emit(SafeCollector.kt:83)",
      "\tat kotlinx.coroutines.flow.internal.SafeCollector.emit(SafeCollector.kt:66)",
      "\tat Line_24_jupyter$simple$1$1.invokeSuspend(Line_24.jupyter.kts:7) at Cell In[20], line 7",
      "\tat kotlin.coroutines.jvm.internal.BaseContinuationImpl.resumeWith(ContinuationImpl.kt:33)",
      "\tat kotlinx.coroutines.DispatchedTask.run(DispatchedTask.kt:108)",
      "\tat kotlinx.coroutines.scheduling.CoroutineScheduler.runSafely(CoroutineScheduler.kt:584)",
      "\tat kotlinx.coroutines.scheduling.CoroutineScheduler$Worker.executeTask(CoroutineScheduler.kt:793)",
      "\tat kotlinx.coroutines.scheduling.CoroutineScheduler$Worker.runWorker(CoroutineScheduler.kt:697)",
      "\tat kotlinx.coroutines.scheduling.CoroutineScheduler$Worker.run(CoroutineScheduler.kt:684)",
      "",
      "java.lang.IllegalStateException: Flow invariant is violated:",
      "\t\tFlow was collected in [StandaloneCoroutine{Active}@34a33fce, Dispatchers.IO],",
      "\t\tbut emission happened in [DispatchedCoroutine{Active}@70b6de12, Dispatchers.Default].",
      "\t\tPlease refer to 'flow' documentation or use 'flowOn' instead",
      "at Cell In[20], line 7",
      ""
     ]
    }
   ],
   "execution_count": 20
  },
  {
   "metadata": {
    "ExecuteTime": {
     "end_time": "2025-04-24T12:37:12.903348Z",
     "start_time": "2025-04-24T12:37:11.717705Z"
    }
   },
   "cell_type": "code",
   "source": [
    "fun log(msg: String) = println(\"[${Thread.currentThread().name}] $msg\")\n",
    "\n",
    "fun simple(): Flow<Int> = flow {\n",
    "    for (i in 1..10) {\n",
    "        delay(100L)\n",
    "        log(\"값 $i 를 emit 합니다.\")\n",
    "        emit(i)\n",
    "    }\n",
    "}.flowOn(Dispatchers.Default)\n",
    "\n",
    "runBlocking<Unit> {\n",
    "    simple().collect {\n",
    "        log(\"$it 을 받음\")\n",
    "    }\n",
    "}"
   ],
   "outputs": [
    {
     "name": "stdout",
     "output_type": "stream",
     "text": [
      "[Execution of code 'fun log(msg: String)...'] 1 을 받음\n",
      "[Execution of code 'fun log(msg: String)...'] 2 을 받음\n",
      "[Execution of code 'fun log(msg: String)...'] 3 을 받음\n",
      "[Execution of code 'fun log(msg: String)...'] 4 을 받음\n",
      "[Execution of code 'fun log(msg: String)...'] 5 을 받음\n",
      "[Execution of code 'fun log(msg: String)...'] 6 을 받음\n",
      "[Execution of code 'fun log(msg: String)...'] 7 을 받음\n",
      "[Execution of code 'fun log(msg: String)...'] 8 을 받음\n",
      "[Execution of code 'fun log(msg: String)...'] 9 을 받음\n",
      "[Execution of code 'fun log(msg: String)...'] 10 을 받음\n"
     ]
    }
   ],
   "execution_count": 21
  },
  {
   "metadata": {},
   "cell_type": "code",
   "outputs": [],
   "execution_count": null,
   "source": ""
  }
 ],
 "metadata": {
  "kernelspec": {
   "display_name": "Kotlin",
   "language": "kotlin",
   "name": "kotlin"
  },
  "language_info": {
   "name": "kotlin",
   "version": "1.9.23",
   "mimetype": "text/x-kotlin",
   "file_extension": ".kt",
   "pygments_lexer": "kotlin",
   "codemirror_mode": "text/x-kotlin",
   "nbconvert_exporter": ""
  }
 },
 "nbformat": 4,
 "nbformat_minor": 0
}
