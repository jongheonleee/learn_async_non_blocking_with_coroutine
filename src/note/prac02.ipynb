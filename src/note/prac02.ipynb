{
 "cells": [
  {
   "cell_type": "code",
   "metadata": {
    "collapsed": true,
    "ExecuteTime": {
     "end_time": "2025-04-22T07:48:02.079691Z",
     "start_time": "2025-04-22T07:48:01.082009Z"
    }
   },
   "source": [
    "import kotlin.random.Random\n",
    "import kotlin.system.*\n",
    "import kotlinx.coroutines.*\n",
    "\n",
    "suspend fun doOneTwoThree() = coroutineScope {\n",
    "    val job1 = launch {\n",
    "        println(\"l1 : ${Thread.currentThread().name}\")\n",
    "        delay(1_000L)\n",
    "        println(\"3!\")\n",
    "    }\n",
    "\n",
    "    val job2 = launch {\n",
    "        println(\"l2 : ${Thread.currentThread().name}\")\n",
    "        println(\"1!\")\n",
    "    }\n",
    "\n",
    "    val job3 = launch {\n",
    "        println(\"l3 : ${Thread.currentThread().name}\")\n",
    "        delay(1_000L)\n",
    "        println(\"2!\")\n",
    "    }\n",
    "\n",
    "    delay(800L)\n",
    "    job1.cancel()\n",
    "    job2.cancel()\n",
    "    job3.cancel()\n",
    "    println(\"4!\")\n",
    "}\n",
    "\n",
    "fun run() = runBlocking {\n",
    "    doOneTwoThree()\n",
    "    println(\"rb : ${Thread.currentThread().name}\")\n",
    "    println(\"5!\")\n",
    "}\n",
    "\n",
    "run()"
   ],
   "outputs": [
    {
     "name": "stdout",
     "output_type": "stream",
     "text": [
      "l1 : Execution of code 'import kotlin.random...'\n",
      "l2 : Execution of code 'import kotlin.random...'\n",
      "1!\n",
      "l3 : Execution of code 'import kotlin.random...'\n",
      "4!\n",
      "rb : Execution of code 'import kotlin.random...'\n",
      "5!\n"
     ]
    }
   ],
   "execution_count": 29
  },
  {
   "metadata": {
    "ExecuteTime": {
     "end_time": "2025-04-22T07:48:03.194896Z",
     "start_time": "2025-04-22T07:48:02.086535Z"
    }
   },
   "cell_type": "code",
   "source": [
    "suspend fun doCount() = coroutineScope {\n",
    "    val job1 = launch(Dispatchers.Default) {\n",
    "        var i = 1\n",
    "        var nextTime = System.currentTimeMillis() + 100L\n",
    "\n",
    "        while(i <= 10) {\n",
    "            val currTime = System.currentTimeMillis()\n",
    "            if (currTime >= nextTime) {\n",
    "                println(\"> $i\")\n",
    "                nextTime = currTime + 100L\n",
    "                i++\n",
    "            }\n",
    "        }\n",
    "    }\n",
    "\n",
    "    delay(1_000L)\n",
    "    job1.cancel()\n",
    "    println(\"doCount Done!!\")\n",
    "}\n",
    "\n",
    "fun run() = runBlocking {\n",
    "    doCount()\n",
    "}\n",
    "\n",
    "run()"
   ],
   "outputs": [
    {
     "name": "stdout",
     "output_type": "stream",
     "text": [
      "doCount Done!!\n"
     ]
    }
   ],
   "execution_count": 30
  },
  {
   "metadata": {
    "ExecuteTime": {
     "end_time": "2025-04-22T07:48:04.535312Z",
     "start_time": "2025-04-22T07:48:03.398824Z"
    }
   },
   "cell_type": "code",
   "source": [
    "import kotlinx.coroutines.*\n",
    "\n",
    "suspend fun doCount() = coroutineScope {\n",
    "    val job1 = launch(Dispatchers.Default) {\n",
    "        var i = 1\n",
    "        var nextTime = System.currentTimeMillis() + 100L\n",
    "\n",
    "        while (i <= 10) {\n",
    "            val currTime = System.currentTimeMillis()\n",
    "            if (currTime >= nextTime) {\n",
    "                println(i)\n",
    "                nextTime = currTime + 100L\n",
    "                i++\n",
    "            }\n",
    "        }\n",
    "    }\n",
    "\n",
    "    delay(200L)\n",
    "    job1.cancel()\n",
    "    job1.join()\n",
    "    println(\"doCount Done!!\")\n",
    "}\n",
    "\n",
    "fun run() = runBlocking {\n",
    "    doCount()\n",
    "}\n",
    "\n",
    "run()"
   ],
   "outputs": [
    {
     "name": "stdout",
     "output_type": "stream",
     "text": [
      "doCount Done!!\n"
     ]
    }
   ],
   "execution_count": 31
  },
  {
   "metadata": {
    "ExecuteTime": {
     "end_time": "2025-04-22T07:48:14.695487Z",
     "start_time": "2025-04-22T07:48:04.573309Z"
    }
   },
   "cell_type": "code",
   "source": [
    "suspend fun doCount() = coroutineScope {\n",
    "    val job1 = launch(Dispatchers.Default) {\n",
    "        var i = 1\n",
    "        var nextTime = System.currentTimeMillis() + 100L\n",
    "\n",
    "\n",
    "        while (i <= 10) {\n",
    "            val currTime = System.currentTimeMillis()\n",
    "\n",
    "            if  (currTime >= nextTime) {\n",
    "                println(i)\n",
    "                nextTime = currTime + 100L\n",
    "                i++\n",
    "            }\n",
    "        }\n",
    "    }\n",
    "\n",
    "    delay(10_000L)\n",
    "    job1.cancelAndJoin()\n",
    "    println(\"doCount Done!\")\n",
    "}\n",
    "\n",
    "runBlocking {\n",
    "    doCount()\n",
    "}\n"
   ],
   "outputs": [
    {
     "name": "stdout",
     "output_type": "stream",
     "text": [
      "doCount Done!\n"
     ]
    }
   ],
   "execution_count": 32
  },
  {
   "metadata": {
    "ExecuteTime": {
     "end_time": "2025-04-22T07:48:15.025159Z",
     "start_time": "2025-04-22T07:48:14.702609Z"
    }
   },
   "cell_type": "code",
   "source": [
    "suspend fun doCount() = coroutineScope {\n",
    "    val  job1 = launch(Dispatchers.Default) {\n",
    "        var i = 1\n",
    "        var nextTime = System.currentTimeMillis() + 100L\n",
    "\n",
    "        while (i <= 10 && isActive) {\n",
    "            val currTime = System.currentTimeMillis()\n",
    "\n",
    "            if (currTime >= nextTime) {\n",
    "                println(i)\n",
    "                nextTime = currTime + 100L\n",
    "                i++\n",
    "            }\n",
    "        }\n",
    "    }\n",
    "\n",
    "    delay(200L)\n",
    "    job1.cancelAndJoin()\n",
    "    println(\"doCount Done!!\")\n",
    "}\n",
    "\n",
    "runBlocking {\n",
    "    doCount()\n",
    "}"
   ],
   "outputs": [
    {
     "name": "stdout",
     "output_type": "stream",
     "text": [
      "doCount Done!!\n"
     ]
    }
   ],
   "execution_count": 33
  },
  {
   "metadata": {
    "ExecuteTime": {
     "end_time": "2025-04-22T07:48:16.017028Z",
     "start_time": "2025-04-22T07:48:15.031017Z"
    }
   },
   "cell_type": "code",
   "source": [
    "suspend fun doOneTwoThree() = coroutineScope {\n",
    "    val job1 = launch {\n",
    "        try {\n",
    "            println(\"l1 : ${Thread.currentThread().name}\")\n",
    "            delay(1_000L)\n",
    "            println(\"3!\")\n",
    "        } finally {\n",
    "            println(\"job1 is finishing!!\")\n",
    "        }\n",
    "    }\n",
    "\n",
    "    val job2 = launch {\n",
    "        try {\n",
    "            println(\"l2 : ${Thread.currentThread().name}\")\n",
    "            delay(1_000L)\n",
    "            println(\"1\")\n",
    "        } finally {\n",
    "            println(\"job2 is finishing!!\")\n",
    "        }\n",
    "    }\n",
    "\n",
    "    val job3 = launch {\n",
    "        try {\n",
    "            println(\"l3 : ${Thread.currentThread().name}\")\n",
    "            delay(1_000L)\n",
    "            println(\"2\")\n",
    "        } finally {\n",
    "            println(\"job3 is finishing!!\")\n",
    "        }\n",
    "    }\n",
    "\n",
    "    delay(800L)\n",
    "    job1.cancel()\n",
    "    job2.cancel()\n",
    "    job3.cancel()\n",
    "    println(\"4\")\n",
    "}\n",
    "\n",
    "runBlocking {\n",
    "    doOneTwoThree()\n",
    "    println(\"rb : ${Thread.currentThread().name}\")\n",
    "    println(\"5!\")\n",
    "}"
   ],
   "outputs": [
    {
     "name": "stdout",
     "output_type": "stream",
     "text": [
      "l1 : Execution of code 'suspend fun doOneTwo...'\n",
      "l2 : Execution of code 'suspend fun doOneTwo...'\n",
      "l3 : Execution of code 'suspend fun doOneTwo...'\n",
      "4\n",
      "job1 is finishing!!\n",
      "job2 is finishing!!\n",
      "job3 is finishing!!\n",
      "rb : Execution of code 'suspend fun doOneTwo...'\n",
      "5!\n"
     ]
    }
   ],
   "execution_count": 34
  },
  {
   "metadata": {
    "ExecuteTime": {
     "end_time": "2025-04-22T07:48:17.228206Z",
     "start_time": "2025-04-22T07:48:16.029054Z"
    }
   },
   "cell_type": "code",
   "source": [
    "suspend fun doOneTwoThree() = coroutineScope {\n",
    "    val job1 = launch {\n",
    "        withContext(NonCancellable) {\n",
    "            println(\"l1 : ${Thread.currentThread().name}\")\n",
    "            delay(1_000L)\n",
    "            println(\"3!\")\n",
    "\n",
    "        }\n",
    "        delay(1_000L)\n",
    "        println(\"job1: end\")\n",
    "    }\n",
    "\n",
    "    val job2 = launch {\n",
    "        withContext(NonCancellable) {\n",
    "            println(\"l2 : ${Thread.currentThread().name}\")\n",
    "            delay(1_000L)\n",
    "            println(\"1!\")\n",
    "\n",
    "        }\n",
    "\n",
    "        delay(1_000L)\n",
    "        println(\"job2 : end\")\n",
    "    }\n",
    "\n",
    "    val job3 = launch {\n",
    "        withContext(NonCancellable) {\n",
    "            println(\"l3: ${Thread.currentThread().name}\")\n",
    "            delay(1000L)\n",
    "            println(\"2!\")\n",
    "        }\n",
    "\n",
    "        delay(1000L)\n",
    "        print(\"job3: end\")\n",
    "    }\n",
    "\n",
    "    delay(800L)\n",
    "    job1.cancel()\n",
    "    job2.cancel()\n",
    "    job3.cancel()\n",
    "    println(\"4!\")\n",
    "}\n",
    "\n",
    "runBlocking {\n",
    "    doOneTwoThree()\n",
    "    println(\"rb : ${Thread.currentThread().name}\")\n",
    "    println(\"5!\")\n",
    "}"
   ],
   "outputs": [
    {
     "name": "stdout",
     "output_type": "stream",
     "text": [
      "l1 : Execution of code 'suspend fun doOneTwo...'\n",
      "l2 : Execution of code 'suspend fun doOneTwo...'\n",
      "l3: Execution of code 'suspend fun doOneTwo...'\n",
      "4!\n",
      "3!\n",
      "1!\n",
      "2!\n",
      "rb : Execution of code 'suspend fun doOneTwo...'\n",
      "5!\n"
     ]
    }
   ],
   "execution_count": 35
  },
  {
   "metadata": {
    "ExecuteTime": {
     "end_time": "2025-04-22T07:48:17.852645Z",
     "start_time": "2025-04-22T07:48:17.254778Z"
    }
   },
   "cell_type": "code",
   "source": [
    "suspend fun doCount() = coroutineScope {\n",
    "    val job1 = launch (Dispatchers.Default) {\n",
    "        var i = 1\n",
    "        var nextTime = System.currentTimeMillis() + 100L\n",
    "\n",
    "        while (i <= 10 && isActive) {\n",
    "            val currTime = System.currentTimeMillis()\n",
    "            if (currTime >= nextTime) {\n",
    "                println(\"> : $i\")\n",
    "                nextTime = currTime + 100L\n",
    "                i++\n",
    "            }\n",
    "        }\n",
    "    }\n",
    "}\n",
    "\n",
    "runBlocking {\n",
    "    withTimeout(500L) {\n",
    "        doCount()\n",
    "    }\n",
    "}"
   ],
   "outputs": [
    {
     "ename": "kotlinx.coroutines.TimeoutCancellationException",
     "evalue": "Timed out waiting for 500 ms",
     "output_type": "error",
     "traceback": [
      "kotlinx.coroutines.TimeoutCancellationException: Timed out waiting for 500 ms",
      "\tat kotlinx.coroutines.TimeoutKt.TimeoutCancellationException(Timeout.kt:191)",
      "\tat kotlinx.coroutines.TimeoutCoroutine.run(Timeout.kt:159)",
      "\tat kotlinx.coroutines.EventLoopImplBase$DelayedRunnableTask.run(EventLoop.common.kt:501)",
      "\tat kotlinx.coroutines.EventLoopImplBase.processNextEvent(EventLoop.common.kt:280)",
      "\tat kotlinx.coroutines.DefaultExecutor.run(DefaultExecutor.kt:109)",
      "\tat java.base/java.lang.Thread.run(Thread.java:840)",
      "",
      "kotlinx.coroutines.TimeoutCancellationException: Timed out waiting for 500 ms",
      ""
     ]
    }
   ],
   "execution_count": 36
  },
  {
   "metadata": {
    "ExecuteTime": {
     "end_time": "2025-04-22T07:48:17.856817Z",
     "start_time": "2025-04-22T07:47:16.148459Z"
    }
   },
   "cell_type": "code",
   "source": [
    "suspend fun doCount() = coroutineScope {\n",
    "    val job1 = launch (Dispatchers.Default) {\n",
    "        var i = 1\n",
    "        var nextTime = System.currentTimeMillis() + 100L\n",
    "\n",
    "        while (i <= 10 && isActive) {\n",
    "            val currTime = System.currentTimeMillis()\n",
    "\n",
    "            if (currTime >= nextTime) {\n",
    "                println(\"> : $i\")\n",
    "                nextTime = currTime + 100L\n",
    "                i++\n",
    "            }\n",
    "        }\n",
    "    }\n",
    "}\n",
    "\n",
    "runBlocking {\n",
    "    val res = withTimeoutOrNull(500L) {\n",
    "        doCount()\n",
    "        true\n",
    "    } ?: false\n",
    "\n",
    "    println(res)\n",
    "}"
   ],
   "outputs": [
    {
     "name": "stdout",
     "output_type": "stream",
     "text": [
      "false\n"
     ]
    }
   ],
   "execution_count": 28
  },
  {
   "metadata": {
    "ExecuteTime": {
     "end_time": "2025-04-22T07:50:01.775309Z",
     "start_time": "2025-04-22T07:49:59.646407Z"
    }
   },
   "cell_type": "code",
   "source": [
    "suspend fun getRandom1(): Int {\n",
    "    delay(1_000L)\n",
    "    return Random.nextInt(0, 500)\n",
    "}\n",
    "\n",
    "suspend fun getRandom2(): Int {\n",
    "    delay(1_000L)\n",
    "    return Random.nextInt(0, 500)\n",
    "}\n",
    "\n",
    "// sync + non-blocking\n",
    "runBlocking {\n",
    "    val elapsedTime = measureTimeMillis {\n",
    "        val val1 = getRandom1() // this part is sync\n",
    "        val val2 = getRandom2() // so that it's taken 2sec\n",
    "\n",
    "        println(\"${val1} + ${val2} = ${val1 + val2}\")\n",
    "    }\n",
    "    println(elapsedTime)\n",
    "}"
   ],
   "outputs": [
    {
     "name": "stdout",
     "output_type": "stream",
     "text": [
      "289 + 246 = 535\n",
      "2013\n"
     ]
    }
   ],
   "execution_count": 37
  },
  {
   "metadata": {
    "ExecuteTime": {
     "end_time": "2025-04-22T08:05:47.926433Z",
     "start_time": "2025-04-22T08:05:46.790090Z"
    }
   },
   "cell_type": "code",
   "source": [
    "suspend fun getRandom1(): Int {\n",
    "    delay(1000L)\n",
    "    return Random.nextInt(0, 500)\n",
    "}\n",
    "\n",
    "suspend fun getRandom2(): Int {\n",
    "    delay(1000L)\n",
    "    return Random.nextInt(0, 500)\n",
    "}\n",
    "\n",
    "// async + non blocking\n",
    "runBlocking {\n",
    "    val elapsedTime = measureTimeMillis {\n",
    "        val val1 = async { getRandom1() } // this part is async\n",
    "        val val2 = async { getRandom2() } // so that it's taken 1sec.\n",
    "\n",
    "        println(\"${val1.await()} + ${val2.await()} = ${val1.await() + val2.await()}\")\n",
    "    }\n",
    "    println(elapsedTime)\n",
    "}"
   ],
   "outputs": [
    {
     "name": "stdout",
     "output_type": "stream",
     "text": [
      "495 + 14 = 509\n",
      "1002\n"
     ]
    }
   ],
   "execution_count": 41
  },
  {
   "metadata": {
    "ExecuteTime": {
     "end_time": "2025-04-22T08:03:21.594184Z",
     "start_time": "2025-04-22T08:03:20.431108Z"
    }
   },
   "cell_type": "code",
   "source": [
    "suspend fun getRandom1(): Int {\n",
    "    delay(1000L)\n",
    "    return Random.nextInt(0, 500)\n",
    "}\n",
    "\n",
    "suspend fun getRandom2(): Int {\n",
    "    delay(1000L)\n",
    "    return Random.nextInt(0, 500)\n",
    "}\n",
    "\n",
    "runBlocking {\n",
    "    val elapsedTime = measureTimeMillis {\n",
    "        val val1 = async (start = CoroutineStart.LAZY) { getRandom1() }\n",
    "        val val2 = async (start = CoroutineStart.LAZY) { getRandom2() }\n",
    "\n",
    "        val1.start()\n",
    "        val2.start()\n",
    "\n",
    "        println(\"${val1.await()} + ${val2.await()} = ${val1.await() + val2.await()}\")\n",
    "    }\n",
    "    println(elapsedTime)\n",
    "}"
   ],
   "outputs": [
    {
     "name": "stdout",
     "output_type": "stream",
     "text": [
      "64 + 221 = 285\n",
      "1005\n"
     ]
    }
   ],
   "execution_count": 40
  },
  {
   "metadata": {},
   "cell_type": "code",
   "outputs": [],
   "execution_count": null,
   "source": ""
  }
 ],
 "metadata": {
  "kernelspec": {
   "display_name": "Kotlin",
   "language": "kotlin",
   "name": "kotlin"
  },
  "language_info": {
   "name": "kotlin",
   "version": "1.9.23",
   "mimetype": "text/x-kotlin",
   "file_extension": ".kt",
   "pygments_lexer": "kotlin",
   "codemirror_mode": "text/x-kotlin",
   "nbconvert_exporter": ""
  }
 },
 "nbformat": 4,
 "nbformat_minor": 0
}
