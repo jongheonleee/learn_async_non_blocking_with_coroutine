{
 "cells": [
  {
   "cell_type": "code",
   "metadata": {
    "collapsed": true,
    "ExecuteTime": {
     "end_time": "2025-04-23T06:25:07.203390Z",
     "start_time": "2025-04-23T06:25:06.978083Z"
    }
   },
   "source": [
    "import kotlinx.coroutines.*\n",
    "\n",
    "runBlocking<Unit> {\n",
    "    launch {\n",
    "        println(\"부모의 콘텍스트 / ${Thread.currentThread().name}\")\n",
    "    }\n",
    "\n",
    "    launch(Dispatchers.Default) {\n",
    "        println(\"Default / ${Thread.currentThread().name}\")\n",
    "    }\n",
    "\n",
    "    launch(Dispatchers.IO) {\n",
    "        println(\"IO / ${Thread.currentThread().name}\")\n",
    "    }\n",
    "\n",
    "    launch(Dispatchers.Unconfined) {\n",
    "        println(\"Unconfined / ${Thread.currentThread().name}\")\n",
    "    }\n",
    "\n",
    "    launch(newSingleThreadContext(\"Fast Campus\")) {\n",
    "        println(\"newSingleThreadContext / ${Thread.currentThread().name}\")\n",
    "    }\n",
    "}"
   ],
   "outputs": [
    {
     "name": "stdout",
     "output_type": "stream",
     "text": [
      "Unconfined / Execution of code 'import kotlinx.corou...'\n",
      "부모의 콘텍스트 / Execution of code 'import kotlinx.corou...'\n"
     ]
    }
   ],
   "execution_count": 3
  },
  {
   "metadata": {
    "ExecuteTime": {
     "end_time": "2025-04-23T06:27:18.920455Z",
     "start_time": "2025-04-23T06:27:18.656764Z"
    }
   },
   "cell_type": "code",
   "source": [
    "runBlocking<Unit> {\n",
    "    async {\n",
    "        println(\"부모의 콘텍스트 / ${Thread.currentThread().name}\")\n",
    "    }\n",
    "\n",
    "    async(Dispatchers.Default) {\n",
    "        println(\"Default / ${Thread.currentThread().name}\")\n",
    "    }\n",
    "\n",
    "    async(Dispatchers.IO) {\n",
    "        println(\"IO / ${Thread.currentThread().name}\")\n",
    "    }\n",
    "\n",
    "    async(Dispatchers.Unconfined) {\n",
    "        println(\"Unconfined / ${Thread.currentThread().name}\")\n",
    "    }\n",
    "\n",
    "    async(newSingleThreadContext(\"Fast Campus\")) {\n",
    "        println(\"newSingleThreadContext / ${Thread.currentThread().name}\")\n",
    "    }\n",
    "}"
   ],
   "outputs": [
    {
     "name": "stdout",
     "output_type": "stream",
     "text": [
      "Unconfined / Execution of code 'runBlocking<Unit> {...'\n",
      "부모의 콘텍스트 / Execution of code 'runBlocking<Unit> {...'\n"
     ]
    }
   ],
   "execution_count": 4
  },
  {
   "metadata": {
    "ExecuteTime": {
     "end_time": "2025-04-23T06:28:47.822258Z",
     "start_time": "2025-04-23T06:28:46.677846Z"
    }
   },
   "cell_type": "code",
   "source": [
    "runBlocking<Unit> {\n",
    "    async(Dispatchers.Unconfined) {\n",
    "        println(\"Unconfined / ${Thread.currentThread().name}\")\n",
    "        delay(1000L)\n",
    "        println(\"Unconfined / ${Thread.currentThread().name}\")\n",
    "    }\n",
    "}"
   ],
   "outputs": [
    {
     "name": "stdout",
     "output_type": "stream",
     "text": [
      "Unconfined / Execution of code 'runBlocking<Unit> {...'\n"
     ]
    }
   ],
   "execution_count": 5
  },
  {
   "metadata": {
    "ExecuteTime": {
     "end_time": "2025-04-23T06:31:31.688656Z",
     "start_time": "2025-04-23T06:31:29.937492Z"
    }
   },
   "cell_type": "code",
   "source": [
    "runBlocking<Unit> {\n",
    "    val job = launch {\n",
    "        launch(Job()) {\n",
    "            println(coroutineContext[Job])\n",
    "            println(\"l1 : ${Thread.currentThread().name}\")\n",
    "            delay(1000L)\n",
    "            println(\"3!\")\n",
    "        }\n",
    "\n",
    "\n",
    "        launch {\n",
    "            println(coroutineContext[Job])\n",
    "            println(\"l2 : ${Thread.currentThread().name}\")\n",
    "            delay(1000L)\n",
    "            println(\"1!\")\n",
    "        }\n",
    "    }\n",
    "\n",
    "    delay(500L)\n",
    "    job.cancelAndJoin()\n",
    "    delay(1000L)\n",
    "}"
   ],
   "outputs": [
    {
     "name": "stdout",
     "output_type": "stream",
     "text": [
      "StandaloneCoroutine{Active}@564e16d3\n",
      "l1 : Execution of code 'runBlocking<Unit> {...'\n",
      "StandaloneCoroutine{Active}@15409ad\n",
      "l2 : Execution of code 'runBlocking<Unit> {...'\n",
      "3!\n"
     ]
    }
   ],
   "execution_count": 6
  },
  {
   "metadata": {
    "ExecuteTime": {
     "end_time": "2025-04-23T06:36:14.824393Z",
     "start_time": "2025-04-23T06:36:09.674660Z"
    }
   },
   "cell_type": "code",
   "source": [
    "import kotlin.system.measureTimeMillis\n",
    "\n",
    "runBlocking<Unit> {\n",
    "    val elapsed = measureTimeMillis {\n",
    "        val job = launch {\n",
    "            launch {\n",
    "                println(\"l1 : ${Thread.currentThread().name}\")\n",
    "                delay(5_000L)\n",
    "                println(\"im done!!\")\n",
    "            }\n",
    "\n",
    "            launch {\n",
    "                println(\"l2 : ${Thread.currentThread().name}\")\n",
    "                delay(10L)\n",
    "            }\n",
    "        }\n",
    "\n",
    "        job.join()\n",
    "    }\n",
    "\n",
    "    println(\"> elapsed : $elapsed\")\n",
    "}"
   ],
   "outputs": [
    {
     "name": "stdout",
     "output_type": "stream",
     "text": [
      "l1 : Execution of code 'import kotlin.system...'\n",
      "l2 : Execution of code 'import kotlin.system...'\n",
      "im done!!\n",
      "> elapsed : 5002\n"
     ]
    }
   ],
   "execution_count": 8
  },
  {
   "metadata": {
    "ExecuteTime": {
     "end_time": "2025-04-23T06:41:47.868990Z",
     "start_time": "2025-04-23T06:41:47.776386Z"
    }
   },
   "cell_type": "code",
   "source": [
    "import kotlin.system.*\n",
    "import kotlinx.coroutines.*\n",
    "import kotlin.coroutines.*\n",
    "\n",
    "runBlocking<Unit> {\n",
    "    launch {\n",
    "        launch(Dispatchers.IO + CoroutineName(\"l1\")) {\n",
    "            println(\"l1: ${Thread.currentThread().name}\")\n",
    "            println(coroutineContext[CoroutineDispatcher])\n",
    "            println(coroutineContext[CoroutineName])\n",
    "            delay(5_000L)\n",
    "        }\n",
    "    }\n",
    "\n",
    "    launch(Dispatchers.Default + CoroutineName(\"l1\")) {\n",
    "        println(\"l2 : ${Thread.currentThread().name}\")\n",
    "        println(coroutineContext[CoroutineDispatcher])\n",
    "        println(coroutineContext[CoroutineName])\n",
    "        delay(10L)\n",
    "    }\n",
    "}"
   ],
   "outputs": [
    {
     "ename": "org.jetbrains.kotlinx.jupyter.exceptions.ReplCompilerException",
     "evalue": "at Cell In[11], line 9, column 38: This declaration needs opt-in. Its usage must be marked with '@kotlin.ExperimentalStdlibApi' or '@OptIn(kotlin.ExperimentalStdlibApi::class)'\nat Cell In[11], line 17, column 34: This declaration needs opt-in. Its usage must be marked with '@kotlin.ExperimentalStdlibApi' or '@OptIn(kotlin.ExperimentalStdlibApi::class)'",
     "output_type": "error",
     "traceback": [
      "org.jetbrains.kotlinx.jupyter.exceptions.ReplCompilerException: at Cell In[11], line 9, column 38: This declaration needs opt-in. Its usage must be marked with '@kotlin.ExperimentalStdlibApi' or '@OptIn(kotlin.ExperimentalStdlibApi::class)'",
      "at Cell In[11], line 17, column 34: This declaration needs opt-in. Its usage must be marked with '@kotlin.ExperimentalStdlibApi' or '@OptIn(kotlin.ExperimentalStdlibApi::class)'",
      "\tat org.jetbrains.kotlinx.jupyter.repl.impl.JupyterCompilerImpl.compileSync(JupyterCompilerImpl.kt:208)",
      "\tat org.jetbrains.kotlinx.jupyter.repl.impl.InternalEvaluatorImpl.eval(InternalEvaluatorImpl.kt:126)",
      "\tat org.jetbrains.kotlinx.jupyter.repl.impl.CellExecutorImpl$execute$1$result$1.invoke(CellExecutorImpl.kt:80)",
      "\tat org.jetbrains.kotlinx.jupyter.repl.impl.CellExecutorImpl$execute$1$result$1.invoke(CellExecutorImpl.kt:78)",
      "\tat org.jetbrains.kotlinx.jupyter.repl.impl.ReplForJupyterImpl.withHost(ReplForJupyterImpl.kt:774)",
      "\tat org.jetbrains.kotlinx.jupyter.repl.impl.CellExecutorImpl.execute-L4Nmkdk(CellExecutorImpl.kt:78)",
      "\tat org.jetbrains.kotlinx.jupyter.repl.execution.CellExecutor$DefaultImpls.execute-L4Nmkdk$default(CellExecutor.kt:13)",
      "\tat org.jetbrains.kotlinx.jupyter.repl.impl.ReplForJupyterImpl.evaluateUserCode-wNURfNM(ReplForJupyterImpl.kt:596)",
      "\tat org.jetbrains.kotlinx.jupyter.repl.impl.ReplForJupyterImpl.evalExImpl(ReplForJupyterImpl.kt:454)",
      "\tat org.jetbrains.kotlinx.jupyter.repl.impl.ReplForJupyterImpl.access$evalExImpl(ReplForJupyterImpl.kt:141)",
      "\tat org.jetbrains.kotlinx.jupyter.repl.impl.ReplForJupyterImpl$evalEx$1.invoke(ReplForJupyterImpl.kt:447)",
      "\tat org.jetbrains.kotlinx.jupyter.repl.impl.ReplForJupyterImpl$evalEx$1.invoke(ReplForJupyterImpl.kt:446)",
      "\tat org.jetbrains.kotlinx.jupyter.repl.impl.ReplForJupyterImpl.withEvalContext(ReplForJupyterImpl.kt:427)",
      "\tat org.jetbrains.kotlinx.jupyter.repl.impl.ReplForJupyterImpl.evalEx(ReplForJupyterImpl.kt:446)",
      "\tat org.jetbrains.kotlinx.jupyter.messaging.IdeCompatibleMessageRequestProcessor$processExecuteRequest$1$response$1$1.invoke(IdeCompatibleMessageRequestProcessor.kt:171)",
      "\tat org.jetbrains.kotlinx.jupyter.messaging.IdeCompatibleMessageRequestProcessor$processExecuteRequest$1$response$1$1.invoke(IdeCompatibleMessageRequestProcessor.kt:170)",
      "\tat org.jetbrains.kotlinx.jupyter.streams.BlockingSubstitutionEngine.withDataSubstitution(SubstitutionEngine.kt:70)",
      "\tat org.jetbrains.kotlinx.jupyter.streams.StreamSubstitutionManager.withSubstitutedStreams(StreamSubstitutionManager.kt:118)",
      "\tat org.jetbrains.kotlinx.jupyter.messaging.IdeCompatibleMessageRequestProcessor.withForkedIn(IdeCompatibleMessageRequestProcessor.kt:347)",
      "\tat org.jetbrains.kotlinx.jupyter.messaging.IdeCompatibleMessageRequestProcessor.access$withForkedIn(IdeCompatibleMessageRequestProcessor.kt:67)",
      "\tat org.jetbrains.kotlinx.jupyter.messaging.IdeCompatibleMessageRequestProcessor$evalWithIO$1$1.invoke(IdeCompatibleMessageRequestProcessor.kt:361)",
      "\tat org.jetbrains.kotlinx.jupyter.streams.BlockingSubstitutionEngine.withDataSubstitution(SubstitutionEngine.kt:70)",
      "\tat org.jetbrains.kotlinx.jupyter.streams.StreamSubstitutionManager.withSubstitutedStreams(StreamSubstitutionManager.kt:118)",
      "\tat org.jetbrains.kotlinx.jupyter.messaging.IdeCompatibleMessageRequestProcessor.withForkedErr(IdeCompatibleMessageRequestProcessor.kt:336)",
      "\tat org.jetbrains.kotlinx.jupyter.messaging.IdeCompatibleMessageRequestProcessor.access$withForkedErr(IdeCompatibleMessageRequestProcessor.kt:67)",
      "\tat org.jetbrains.kotlinx.jupyter.messaging.IdeCompatibleMessageRequestProcessor$evalWithIO$1.invoke(IdeCompatibleMessageRequestProcessor.kt:360)",
      "\tat org.jetbrains.kotlinx.jupyter.streams.BlockingSubstitutionEngine.withDataSubstitution(SubstitutionEngine.kt:70)",
      "\tat org.jetbrains.kotlinx.jupyter.streams.StreamSubstitutionManager.withSubstitutedStreams(StreamSubstitutionManager.kt:118)",
      "\tat org.jetbrains.kotlinx.jupyter.messaging.IdeCompatibleMessageRequestProcessor.withForkedOut(IdeCompatibleMessageRequestProcessor.kt:328)",
      "\tat org.jetbrains.kotlinx.jupyter.messaging.IdeCompatibleMessageRequestProcessor.evalWithIO(IdeCompatibleMessageRequestProcessor.kt:359)",
      "\tat org.jetbrains.kotlinx.jupyter.messaging.IdeCompatibleMessageRequestProcessor$processExecuteRequest$1$response$1.invoke(IdeCompatibleMessageRequestProcessor.kt:170)",
      "\tat org.jetbrains.kotlinx.jupyter.messaging.IdeCompatibleMessageRequestProcessor$processExecuteRequest$1$response$1.invoke(IdeCompatibleMessageRequestProcessor.kt:169)",
      "\tat org.jetbrains.kotlinx.jupyter.execution.JupyterExecutorImpl$Task.execute(JupyterExecutorImpl.kt:41)",
      "\tat org.jetbrains.kotlinx.jupyter.execution.JupyterExecutorImpl$executorThread$1.invoke(JupyterExecutorImpl.kt:81)",
      "\tat org.jetbrains.kotlinx.jupyter.execution.JupyterExecutorImpl$executorThread$1.invoke(JupyterExecutorImpl.kt:79)",
      "\tat kotlin.concurrent.ThreadsKt$thread$thread$1.run(Thread.kt:30)",
      ""
     ]
    }
   ],
   "execution_count": 11
  },
  {
   "metadata": {
    "ExecuteTime": {
     "end_time": "2025-04-23T06:47:50.977536Z",
     "start_time": "2025-04-23T06:47:49.898562Z"
    }
   },
   "cell_type": "code",
   "source": [
    "import kotlin.random.Random\n",
    "import kotlin.system.*\n",
    "import kotlinx.coroutines.*\n",
    "\n",
    "suspend fun printRandom() {\n",
    "    delay(500L)\n",
    "    println(Random.nextInt(0, 500))\n",
    "}\n",
    "\n",
    "fun run() {\n",
    "    val job = GlobalScope.launch(Dispatchers.IO) {\n",
    "        launch { printRandom() }\n",
    "    }\n",
    "    Thread.sleep(1_000L)\n",
    "}\n",
    "\n",
    "run()\n"
   ],
   "outputs": [],
   "execution_count": 20
  },
  {
   "metadata": {
    "ExecuteTime": {
     "end_time": "2025-04-23T06:47:57.231828Z",
     "start_time": "2025-04-23T06:47:56.141251Z"
    }
   },
   "cell_type": "code",
   "source": [
    "suspend fun printRandom() {\n",
    "    delay(500L)\n",
    "    println(Random.nextInt(0, 500))\n",
    "}\n",
    "\n",
    "fun run() {\n",
    "    val scope = CoroutineScope(Dispatchers.Default)\n",
    "    val job = scope.launch(Dispatchers.IO) {\n",
    "        launch { printRandom() }\n",
    "    }\n",
    "\n",
    "    Thread.sleep(1_000L)\n",
    "}\n",
    "\n",
    "run()"
   ],
   "outputs": [],
   "execution_count": 21
  },
  {
   "metadata": {
    "ExecuteTime": {
     "end_time": "2025-04-23T06:53:29.903768Z",
     "start_time": "2025-04-23T06:53:29.264206Z"
    }
   },
   "cell_type": "code",
   "source": [
    "suspend fun printRandom1() {\n",
    "    delay(1_000L)\n",
    "    println(Random.nextInt(0, 500))\n",
    "}\n",
    "\n",
    "suspend fun printRandom2() {\n",
    "    delay(500L)\n",
    "    throw ArithmeticException()\n",
    "}\n",
    "\n",
    "val ceh = CoroutineExceptionHandler {_, exception ->\n",
    "    println(\"Something happend: ${exception}\")\n",
    "}\n",
    "\n",
    "runBlocking<Unit> {\n",
    "    val scope = CoroutineScope(Dispatchers.IO)\n",
    "    val job = scope.launch (ceh) {\n",
    "        launch { printRandom1() }\n",
    "        launch { printRandom2() }\n",
    "    }\n",
    "\n",
    "    job.join()\n",
    "}"
   ],
   "outputs": [],
   "execution_count": 26
  },
  {
   "metadata": {
    "ExecuteTime": {
     "end_time": "2025-04-23T06:57:34.218345Z",
     "start_time": "2025-04-23T06:57:33.576570Z"
    }
   },
   "cell_type": "code",
   "source": [
    "suspend fun getRandom1(): Int {\n",
    "    delay(1_000L)\n",
    "    return Random.nextInt(0, 500)\n",
    "}\n",
    "\n",
    "suspend fun getRandom2(): Int {\n",
    "    delay(500L)\n",
    "    throw ArithmeticException()\n",
    "}\n",
    "\n",
    "val ceh = CoroutineExceptionHandler { _, exception ->\n",
    "    println(\"Something happend!! : ${exception}\")\n",
    "}\n",
    "\n",
    "runBlocking <Unit> {\n",
    "    val job = launch (ceh) {\n",
    "        val a = async { getRandom1() }\n",
    "        val b = async { getRandom2() }\n",
    "        println(a.await())\n",
    "        println(b.await())\n",
    "    }\n",
    "    job.join()\n",
    "}"
   ],
   "outputs": [
    {
     "ename": "java.lang.ArithmeticException",
     "evalue": "",
     "output_type": "error",
     "traceback": [
      "java.lang.ArithmeticException",
      "\tat Line_34_jupyter.getRandom2(Line_34.jupyter.kts:8) at Cell In[31], line 8",
      "\tat Line_34_jupyter$getRandom2$1.invokeSuspend(Line_34.jupyter.kts)",
      "\tat kotlin.coroutines.jvm.internal.BaseContinuationImpl.resumeWith(ContinuationImpl.kt:33)",
      "\tat kotlinx.coroutines.DispatchedTaskKt.resume(DispatchedTask.kt:235)",
      "\tat kotlinx.coroutines.DispatchedTaskKt.dispatch(DispatchedTask.kt:168)",
      "\tat kotlinx.coroutines.CancellableContinuationImpl.dispatchResume(CancellableContinuationImpl.kt:474)",
      "\tat kotlinx.coroutines.CancellableContinuationImpl.resumeImpl(CancellableContinuationImpl.kt:508)",
      "\tat kotlinx.coroutines.CancellableContinuationImpl.resumeImpl$default(CancellableContinuationImpl.kt:497)",
      "\tat kotlinx.coroutines.CancellableContinuationImpl.resumeUndispatched(CancellableContinuationImpl.kt:595)",
      "\tat kotlinx.coroutines.EventLoopImplBase$DelayedResumeTask.run(EventLoop.common.kt:493)",
      "\tat kotlinx.coroutines.EventLoopImplBase.processNextEvent(EventLoop.common.kt:280)",
      "\tat kotlinx.coroutines.BlockingCoroutine.joinBlocking(Builders.kt:85)",
      "\tat kotlinx.coroutines.BuildersKt__BuildersKt.runBlocking(Builders.kt:59)",
      "\tat kotlinx.coroutines.BuildersKt.runBlocking(Unknown Source)",
      "\tat kotlinx.coroutines.BuildersKt__BuildersKt.runBlocking$default(Builders.kt:38)",
      "\tat kotlinx.coroutines.BuildersKt.runBlocking$default(Unknown Source)",
      "\tat Line_34_jupyter.<init>(Line_34.jupyter.kts:15) at Cell In[31], line 15",
      "\tat java.base/jdk.internal.reflect.NativeConstructorAccessorImpl.newInstance0(Native Method)",
      "\tat java.base/jdk.internal.reflect.NativeConstructorAccessorImpl.newInstance(NativeConstructorAccessorImpl.java:77)",
      "\tat java.base/jdk.internal.reflect.DelegatingConstructorAccessorImpl.newInstance(DelegatingConstructorAccessorImpl.java:45)",
      "\tat java.base/java.lang.reflect.Constructor.newInstanceWithCaller(Constructor.java:500)",
      "\tat java.base/java.lang.reflect.Constructor.newInstance(Constructor.java:481)",
      "\tat kotlin.script.experimental.jvm.BasicJvmScriptEvaluator.evalWithConfigAndOtherScriptsResults(BasicJvmScriptEvaluator.kt:122)",
      "\tat kotlin.script.experimental.jvm.BasicJvmScriptEvaluator.invoke$suspendImpl(BasicJvmScriptEvaluator.kt:48)",
      "\tat kotlin.script.experimental.jvm.BasicJvmScriptEvaluator.invoke(BasicJvmScriptEvaluator.kt)",
      "\tat kotlin.script.experimental.jvm.BasicJvmReplEvaluator.eval(BasicJvmReplEvaluator.kt:49)",
      "\tat org.jetbrains.kotlinx.jupyter.repl.impl.InternalEvaluatorImpl$eval$resultWithDiagnostics$1.invokeSuspend(InternalEvaluatorImpl.kt:137)",
      "\tat kotlin.coroutines.jvm.internal.BaseContinuationImpl.resumeWith(ContinuationImpl.kt:33)",
      "\tat kotlinx.coroutines.DispatchedTask.run(DispatchedTask.kt:104)",
      "\tat kotlinx.coroutines.EventLoopImplBase.processNextEvent(EventLoop.common.kt:277)",
      "\tat kotlinx.coroutines.BlockingCoroutine.joinBlocking(Builders.kt:95)",
      "\tat kotlinx.coroutines.BuildersKt__BuildersKt.runBlocking(Builders.kt:69)",
      "\tat kotlinx.coroutines.BuildersKt.runBlocking(Unknown Source)",
      "\tat kotlinx.coroutines.BuildersKt__BuildersKt.runBlocking$default(Builders.kt:48)",
      "\tat kotlinx.coroutines.BuildersKt.runBlocking$default(Unknown Source)",
      "\tat org.jetbrains.kotlinx.jupyter.repl.impl.InternalEvaluatorImpl.eval(InternalEvaluatorImpl.kt:137)",
      "\tat org.jetbrains.kotlinx.jupyter.repl.impl.CellExecutorImpl$execute$1$result$1.invoke(CellExecutorImpl.kt:80)",
      "\tat org.jetbrains.kotlinx.jupyter.repl.impl.CellExecutorImpl$execute$1$result$1.invoke(CellExecutorImpl.kt:78)",
      "\tat org.jetbrains.kotlinx.jupyter.repl.impl.ReplForJupyterImpl.withHost(ReplForJupyterImpl.kt:774)",
      "\tat org.jetbrains.kotlinx.jupyter.repl.impl.CellExecutorImpl.execute-L4Nmkdk(CellExecutorImpl.kt:78)",
      "\tat org.jetbrains.kotlinx.jupyter.repl.execution.CellExecutor$DefaultImpls.execute-L4Nmkdk$default(CellExecutor.kt:13)",
      "\tat org.jetbrains.kotlinx.jupyter.repl.impl.ReplForJupyterImpl.evaluateUserCode-wNURfNM(ReplForJupyterImpl.kt:596)",
      "\tat org.jetbrains.kotlinx.jupyter.repl.impl.ReplForJupyterImpl.evalExImpl(ReplForJupyterImpl.kt:454)",
      "\tat org.jetbrains.kotlinx.jupyter.repl.impl.ReplForJupyterImpl.access$evalExImpl(ReplForJupyterImpl.kt:141)",
      "\tat org.jetbrains.kotlinx.jupyter.repl.impl.ReplForJupyterImpl$evalEx$1.invoke(ReplForJupyterImpl.kt:447)",
      "\tat org.jetbrains.kotlinx.jupyter.repl.impl.ReplForJupyterImpl$evalEx$1.invoke(ReplForJupyterImpl.kt:446)",
      "\tat org.jetbrains.kotlinx.jupyter.repl.impl.ReplForJupyterImpl.withEvalContext(ReplForJupyterImpl.kt:427)",
      "\tat org.jetbrains.kotlinx.jupyter.repl.impl.ReplForJupyterImpl.evalEx(ReplForJupyterImpl.kt:446)",
      "\tat org.jetbrains.kotlinx.jupyter.messaging.IdeCompatibleMessageRequestProcessor$processExecuteRequest$1$response$1$1.invoke(IdeCompatibleMessageRequestProcessor.kt:171)",
      "\tat org.jetbrains.kotlinx.jupyter.messaging.IdeCompatibleMessageRequestProcessor$processExecuteRequest$1$response$1$1.invoke(IdeCompatibleMessageRequestProcessor.kt:170)",
      "\tat org.jetbrains.kotlinx.jupyter.streams.BlockingSubstitutionEngine.withDataSubstitution(SubstitutionEngine.kt:70)",
      "\tat org.jetbrains.kotlinx.jupyter.streams.StreamSubstitutionManager.withSubstitutedStreams(StreamSubstitutionManager.kt:118)",
      "\tat org.jetbrains.kotlinx.jupyter.messaging.IdeCompatibleMessageRequestProcessor.withForkedIn(IdeCompatibleMessageRequestProcessor.kt:347)",
      "\tat org.jetbrains.kotlinx.jupyter.messaging.IdeCompatibleMessageRequestProcessor.access$withForkedIn(IdeCompatibleMessageRequestProcessor.kt:67)",
      "\tat org.jetbrains.kotlinx.jupyter.messaging.IdeCompatibleMessageRequestProcessor$evalWithIO$1$1.invoke(IdeCompatibleMessageRequestProcessor.kt:361)",
      "\tat org.jetbrains.kotlinx.jupyter.streams.BlockingSubstitutionEngine.withDataSubstitution(SubstitutionEngine.kt:70)",
      "\tat org.jetbrains.kotlinx.jupyter.streams.StreamSubstitutionManager.withSubstitutedStreams(StreamSubstitutionManager.kt:118)",
      "\tat org.jetbrains.kotlinx.jupyter.messaging.IdeCompatibleMessageRequestProcessor.withForkedErr(IdeCompatibleMessageRequestProcessor.kt:336)",
      "\tat org.jetbrains.kotlinx.jupyter.messaging.IdeCompatibleMessageRequestProcessor.access$withForkedErr(IdeCompatibleMessageRequestProcessor.kt:67)",
      "\tat org.jetbrains.kotlinx.jupyter.messaging.IdeCompatibleMessageRequestProcessor$evalWithIO$1.invoke(IdeCompatibleMessageRequestProcessor.kt:360)",
      "\tat org.jetbrains.kotlinx.jupyter.streams.BlockingSubstitutionEngine.withDataSubstitution(SubstitutionEngine.kt:70)",
      "\tat org.jetbrains.kotlinx.jupyter.streams.StreamSubstitutionManager.withSubstitutedStreams(StreamSubstitutionManager.kt:118)",
      "\tat org.jetbrains.kotlinx.jupyter.messaging.IdeCompatibleMessageRequestProcessor.withForkedOut(IdeCompatibleMessageRequestProcessor.kt:328)",
      "\tat org.jetbrains.kotlinx.jupyter.messaging.IdeCompatibleMessageRequestProcessor.evalWithIO(IdeCompatibleMessageRequestProcessor.kt:359)",
      "\tat org.jetbrains.kotlinx.jupyter.messaging.IdeCompatibleMessageRequestProcessor$processExecuteRequest$1$response$1.invoke(IdeCompatibleMessageRequestProcessor.kt:170)",
      "\tat org.jetbrains.kotlinx.jupyter.messaging.IdeCompatibleMessageRequestProcessor$processExecuteRequest$1$response$1.invoke(IdeCompatibleMessageRequestProcessor.kt:169)",
      "\tat org.jetbrains.kotlinx.jupyter.execution.JupyterExecutorImpl$Task.execute(JupyterExecutorImpl.kt:41)",
      "\tat org.jetbrains.kotlinx.jupyter.execution.JupyterExecutorImpl$executorThread$1.invoke(JupyterExecutorImpl.kt:81)",
      "\tat org.jetbrains.kotlinx.jupyter.execution.JupyterExecutorImpl$executorThread$1.invoke(JupyterExecutorImpl.kt:79)",
      "\tat kotlin.concurrent.ThreadsKt$thread$thread$1.run(Thread.kt:30)",
      "",
      "java.lang.ArithmeticException: null",
      "at Cell In[31], line 8",
      ""
     ]
    }
   ],
   "execution_count": 31
  },
  {
   "metadata": {
    "ExecuteTime": {
     "end_time": "2025-04-23T06:59:28.205655Z",
     "start_time": "2025-04-23T06:59:27.055109Z"
    }
   },
   "cell_type": "code",
   "source": [
    "suspend fun printRandom1() {\n",
    "    delay(1000L)\n",
    "    println(Random.nextInt(0, 500))\n",
    "}\n",
    "\n",
    "suspend fun printRandom2() {\n",
    "    delay(500L)\n",
    "    throw ArithmeticException()\n",
    "}\n",
    "\n",
    "val ceh = CoroutineExceptionHandler { _, exception ->\n",
    "    println(\"Something Happend!! : $exception\")\n",
    "}\n",
    "\n",
    "runBlocking<Unit> {\n",
    "    val scope = CoroutineScope(Dispatchers.IO + SupervisorJob() + ceh)\n",
    "    val job1 = scope.launch { printRandom1() }\n",
    "    val job2 = scope.launch { printRandom2() }\n",
    "\n",
    "    joinAll(job1, job2)\n",
    "}"
   ],
   "outputs": [],
   "execution_count": 32
  },
  {
   "metadata": {
    "ExecuteTime": {
     "end_time": "2025-04-23T07:02:21.707676Z",
     "start_time": "2025-04-23T07:02:20.553636Z"
    }
   },
   "cell_type": "code",
   "source": [
    "suspend fun printRandom1() {\n",
    "    delay(1_000L)\n",
    "    println(Random.nextInt(0, 500))\n",
    "}\n",
    "\n",
    "suspend fun printRandom2() {\n",
    "    delay(500L)\n",
    "    throw ArithmeticException()\n",
    "}\n",
    "\n",
    "suspend fun supervisoredFunc() = supervisorScope {\n",
    "    launch { printRandom1() }\n",
    "    launch { printRandom2() }\n",
    "}\n",
    "\n",
    "val ceh = CoroutineExceptionHandler { _, exception ->\n",
    "    println(\"Something happed: $exception\")\n",
    "}\n",
    "\n",
    "runBlocking<Unit> {\n",
    "    val scope = CoroutineScope(Dispatchers.IO)\n",
    "    val job = scope.launch {\n",
    "        supervisoredFunc()\n",
    "    }\n",
    "    job.join()\n",
    "}"
   ],
   "outputs": [],
   "execution_count": 33
  },
  {
   "metadata": {
    "ExecuteTime": {
     "end_time": "2025-04-23T07:06:37.753358Z",
     "start_time": "2025-04-23T07:06:37.597708Z"
    }
   },
   "cell_type": "code",
   "source": [
    "import kotlin.system.*\n",
    "import kotlinx.coroutines.*\n",
    "\n",
    "\n",
    "suspend fun massiveRun(action: suspend () -> Unit) {\n",
    "    val n = 100 // 시작할 코루틴의 갯수\n",
    "    val k = 1000 // 코루틴 내에서 반복할 횟수\n",
    "    val elapsed = measureTimeMillis {\n",
    "        coroutineScope { // scope for coroutines\n",
    "            repeat(n) {\n",
    "                launch {\n",
    "                    repeat(k) { action() }\n",
    "                }\n",
    "            }\n",
    "        }\n",
    "    }\n",
    "    println(\"$elapsed ms동안 ${n * k}개의 액션을 수행했습니다.\")\n",
    "}\n",
    "\n",
    "var counter = 0\n",
    "\n",
    "runBlocking {\n",
    "    withContext(Dispatchers.Default) {\n",
    "        massiveRun {\n",
    "            counter++\n",
    "        }\n",
    "    }\n",
    "\n",
    "    println(\"Couter = ${counter}\")\n",
    "}"
   ],
   "outputs": [
    {
     "name": "stdout",
     "output_type": "stream",
     "text": [
      "Couter = 58301\n"
     ]
    }
   ],
   "execution_count": 40
  },
  {
   "metadata": {
    "ExecuteTime": {
     "end_time": "2025-04-23T07:07:56.676883Z",
     "start_time": "2025-04-23T07:07:56.538769Z"
    }
   },
   "cell_type": "code",
   "source": [
    "suspend fun massiveRun(action: suspend () -> Unit) {\n",
    "    val n = 100 // 시작할 코루틴의 갯수\n",
    "    val k = 1000 // 코루틴 내에서 반복할 횟수\n",
    "    val elapsed = measureTimeMillis {\n",
    "        coroutineScope { // scope for coroutines\n",
    "            repeat(n) {\n",
    "                launch {\n",
    "                    repeat(k) { action() }\n",
    "                }\n",
    "            }\n",
    "        }\n",
    "    }\n",
    "    println(\"$elapsed ms동안 ${n * k}개의 액션을 수행했습니다.\")\n",
    "}\n",
    "\n",
    "@Volatile\n",
    "var counter = 0 // volatile은 가시성 문제만을 해결할 뿐 동시에 읽고 수정해서 생기는 문제를 해결하지 못함\n",
    "\n",
    "runBlocking {\n",
    "    withContext(Dispatchers.Default) {\n",
    "        massiveRun {\n",
    "            counter++\n",
    "        }\n",
    "    }\n",
    "\n",
    "    println(\"Couter = $counter\")\n",
    "}"
   ],
   "outputs": [
    {
     "name": "stdout",
     "output_type": "stream",
     "text": [
      "Couter = 52353\n"
     ]
    }
   ],
   "execution_count": 44
  },
  {
   "metadata": {
    "ExecuteTime": {
     "end_time": "2025-04-23T07:08:20.959385Z",
     "start_time": "2025-04-23T07:08:20.774816Z"
    }
   },
   "cell_type": "code",
   "source": [
    "import java.util.concurrent.atomic.*\n",
    "import kotlin.system.*\n",
    "import kotlinx.coroutines.*\n",
    "\n",
    "\n",
    "suspend fun massiveRun(action: suspend () -> Unit) {\n",
    "    val n = 100 // 시작할 코루틴의 갯수\n",
    "    val k = 1000 // 코루틴 내에서 반복할 횟수\n",
    "    val elapsed = measureTimeMillis {\n",
    "        coroutineScope { // scope for coroutines\n",
    "            repeat(n) {\n",
    "                launch {\n",
    "                    repeat(k) { action() }\n",
    "                }\n",
    "            }\n",
    "        }\n",
    "    }\n",
    "    println(\"$elapsed ms동안 ${n * k}개의 액션을 수행했습니다.\")\n",
    "}\n",
    "\n",
    "val counter = AtomicInteger()\n",
    "\n",
    "runBlocking {\n",
    "    withContext(Dispatchers.Default) {\n",
    "        massiveRun {\n",
    "            counter.incrementAndGet()\n",
    "        }\n",
    "    }\n",
    "    println(\"Counter = $counter\")\n",
    "}"
   ],
   "outputs": [
    {
     "name": "stdout",
     "output_type": "stream",
     "text": [
      "Counter = 100000\n"
     ]
    }
   ],
   "execution_count": 45
  },
  {
   "metadata": {
    "ExecuteTime": {
     "end_time": "2025-04-23T07:08:55.600134Z",
     "start_time": "2025-04-23T07:08:55.462842Z"
    }
   },
   "cell_type": "code",
   "source": [
    "suspend fun massiveRun(action: suspend () -> Unit) {\n",
    "    val n = 100 // 시작할 코루틴의 갯수\n",
    "    val k = 1000 // 코루틴 내에서 반복할 횟수\n",
    "    val elapsed = measureTimeMillis {\n",
    "        coroutineScope { // scope for coroutines\n",
    "            repeat(n) {\n",
    "                launch {\n",
    "                    repeat(k) { action() }\n",
    "                }\n",
    "            }\n",
    "        }\n",
    "    }\n",
    "    println(\"$elapsed ms동안 ${n * k}개의 액션을 수행했습니다.\")\n",
    "}\n",
    "\n",
    "var counter = 0\n",
    "val counterContext = newSingleThreadContext(\"CounterContext\") //  특정한 스레드를 만들고 해당 스레드를 사용\n",
    "\n",
    "runBlocking {\n",
    "    withContext(counterContext) {\n",
    "        massiveRun {\n",
    "            counter++\n",
    "        }\n",
    "    }\n",
    "    println(\"Counter = $counter\")\n",
    "}"
   ],
   "outputs": [
    {
     "name": "stdout",
     "output_type": "stream",
     "text": [
      "Counter = 100000\n"
     ]
    }
   ],
   "execution_count": 47
  },
  {
   "metadata": {
    "ExecuteTime": {
     "end_time": "2025-04-23T07:09:38.331806Z",
     "start_time": "2025-04-23T07:09:37.518059Z"
    }
   },
   "cell_type": "code",
   "source": [
    "import kotlin.system.*\n",
    "import kotlinx.coroutines.*\n",
    "import kotlinx.coroutines.sync.*\n",
    "\n",
    "suspend fun massiveRun(action: suspend () -> Unit) {\n",
    "    val n = 100 // 시작할 코루틴의 갯수\n",
    "    val k = 1000 // 코루틴 내에서 반복할 횟수\n",
    "    val elapsed = measureTimeMillis {\n",
    "        coroutineScope { // scope for coroutines\n",
    "            repeat(n) {\n",
    "                launch {\n",
    "                    repeat(k) { action() }\n",
    "                }\n",
    "            }\n",
    "        }\n",
    "    }\n",
    "    println(\"$elapsed ms동안 ${n * k}개의 액션을 수행했습니다.\")\n",
    "}\n",
    "\n",
    "val mutex = Mutex() // 유 상태를 수정할 때 임계 영역(critical section)를 이용하게 하며, 임계 영역을 동시에 접근하는 것을 허용하지 않음\n",
    "var counter = 0\n",
    "\n",
    "runBlocking {\n",
    "    withContext(Dispatchers.Default) {\n",
    "        massiveRun {\n",
    "            mutex.withLock {\n",
    "                counter++\n",
    "            }\n",
    "        }\n",
    "    }\n",
    "    println(\"Counter = $counter\")\n",
    "}"
   ],
   "outputs": [
    {
     "name": "stdout",
     "output_type": "stream",
     "text": [
      "Counter = 100000\n"
     ]
    }
   ],
   "execution_count": 48
  },
  {
   "metadata": {
    "ExecuteTime": {
     "end_time": "2025-04-23T07:12:59.146506Z",
     "start_time": "2025-04-23T07:12:59.029245Z"
    }
   },
   "cell_type": "code",
   "source": [
    "import kotlinx.coroutines.*\n",
    "import kotlinx.coroutines.channels.*\n",
    "import kotlin.system.*\n",
    "\n",
    "\n",
    "suspend fun massiveRun(action: suspend () -> Unit) {\n",
    "    val n = 100\n",
    "    val k = 1000\n",
    "    val elapsed = measureTimeMillis {\n",
    "        coroutineScope {\n",
    "            repeat(n) {\n",
    "                launch {\n",
    "                    repeat(k) { action() }\n",
    "                }\n",
    "            }\n",
    "        }\n",
    "    }\n",
    "    println(\"$elapsed ms동안 ${n * k}개의 액션을 수행했습니다.\")\n",
    "}\n",
    "\n",
    "\n",
    "sealed class CounterMsg\n",
    "object IncCounter : CounterMsg()\n",
    "class GetCounter(val response: CompletableDeferred<Int>) : CounterMsg()\n",
    "\n",
    "fun CoroutineScope.counterActor() = actor<CounterMsg> {\n",
    "    var counter = 0\n",
    "    for (msg in channel) {\n",
    "        when (msg) {\n",
    "            is IncCounter -> counter++\n",
    "            else -> msg.response.complete(counter) // is GetCounter\n",
    "        }\n",
    "    }\n",
    "}\n",
    "\n",
    "\n",
    "runBlocking<Unit> {\n",
    "    val counter = counterActor()\n",
    "    withContext(Dispatchers.Default) {\n",
    "        massiveRun {\n",
    "            counter.send(IncCounter)\n",
    "        }\n",
    "    }\n",
    "\n",
    "    val response = CompletableDeferred<Int>()\n",
    "    counter.send(GetCounter(response))\n",
    "    println(\"Counter = ${response.await()}\")\n",
    "    counter.close()\n",
    "}"
   ],
   "outputs": [
    {
     "ename": "org.jetbrains.kotlinx.jupyter.exceptions.ReplCompilerException",
     "evalue": "at Cell In[51], line 26, column 37: This declaration needs opt-in. Its usage should be marked with '@kotlinx.coroutines.ObsoleteCoroutinesApi' or '@OptIn(kotlinx.coroutines.ObsoleteCoroutinesApi::class)'\nat Cell In[51], line 28, column 17: This declaration needs opt-in. Its usage should be marked with '@kotlinx.coroutines.ObsoleteCoroutinesApi' or '@OptIn(kotlinx.coroutines.ObsoleteCoroutinesApi::class)'\nat Cell In[51], line 31, column 25: Unresolved reference: response",
     "output_type": "error",
     "traceback": [
      "org.jetbrains.kotlinx.jupyter.exceptions.ReplCompilerException: at Cell In[51], line 26, column 37: This declaration needs opt-in. Its usage should be marked with '@kotlinx.coroutines.ObsoleteCoroutinesApi' or '@OptIn(kotlinx.coroutines.ObsoleteCoroutinesApi::class)'",
      "at Cell In[51], line 28, column 17: This declaration needs opt-in. Its usage should be marked with '@kotlinx.coroutines.ObsoleteCoroutinesApi' or '@OptIn(kotlinx.coroutines.ObsoleteCoroutinesApi::class)'",
      "at Cell In[51], line 31, column 25: Unresolved reference: response",
      "\tat org.jetbrains.kotlinx.jupyter.repl.impl.JupyterCompilerImpl.compileSync(JupyterCompilerImpl.kt:208)",
      "\tat org.jetbrains.kotlinx.jupyter.repl.impl.InternalEvaluatorImpl.eval(InternalEvaluatorImpl.kt:126)",
      "\tat org.jetbrains.kotlinx.jupyter.repl.impl.CellExecutorImpl$execute$1$result$1.invoke(CellExecutorImpl.kt:80)",
      "\tat org.jetbrains.kotlinx.jupyter.repl.impl.CellExecutorImpl$execute$1$result$1.invoke(CellExecutorImpl.kt:78)",
      "\tat org.jetbrains.kotlinx.jupyter.repl.impl.ReplForJupyterImpl.withHost(ReplForJupyterImpl.kt:774)",
      "\tat org.jetbrains.kotlinx.jupyter.repl.impl.CellExecutorImpl.execute-L4Nmkdk(CellExecutorImpl.kt:78)",
      "\tat org.jetbrains.kotlinx.jupyter.repl.execution.CellExecutor$DefaultImpls.execute-L4Nmkdk$default(CellExecutor.kt:13)",
      "\tat org.jetbrains.kotlinx.jupyter.repl.impl.ReplForJupyterImpl.evaluateUserCode-wNURfNM(ReplForJupyterImpl.kt:596)",
      "\tat org.jetbrains.kotlinx.jupyter.repl.impl.ReplForJupyterImpl.evalExImpl(ReplForJupyterImpl.kt:454)",
      "\tat org.jetbrains.kotlinx.jupyter.repl.impl.ReplForJupyterImpl.access$evalExImpl(ReplForJupyterImpl.kt:141)",
      "\tat org.jetbrains.kotlinx.jupyter.repl.impl.ReplForJupyterImpl$evalEx$1.invoke(ReplForJupyterImpl.kt:447)",
      "\tat org.jetbrains.kotlinx.jupyter.repl.impl.ReplForJupyterImpl$evalEx$1.invoke(ReplForJupyterImpl.kt:446)",
      "\tat org.jetbrains.kotlinx.jupyter.repl.impl.ReplForJupyterImpl.withEvalContext(ReplForJupyterImpl.kt:427)",
      "\tat org.jetbrains.kotlinx.jupyter.repl.impl.ReplForJupyterImpl.evalEx(ReplForJupyterImpl.kt:446)",
      "\tat org.jetbrains.kotlinx.jupyter.messaging.IdeCompatibleMessageRequestProcessor$processExecuteRequest$1$response$1$1.invoke(IdeCompatibleMessageRequestProcessor.kt:171)",
      "\tat org.jetbrains.kotlinx.jupyter.messaging.IdeCompatibleMessageRequestProcessor$processExecuteRequest$1$response$1$1.invoke(IdeCompatibleMessageRequestProcessor.kt:170)",
      "\tat org.jetbrains.kotlinx.jupyter.streams.BlockingSubstitutionEngine.withDataSubstitution(SubstitutionEngine.kt:70)",
      "\tat org.jetbrains.kotlinx.jupyter.streams.StreamSubstitutionManager.withSubstitutedStreams(StreamSubstitutionManager.kt:118)",
      "\tat org.jetbrains.kotlinx.jupyter.messaging.IdeCompatibleMessageRequestProcessor.withForkedIn(IdeCompatibleMessageRequestProcessor.kt:347)",
      "\tat org.jetbrains.kotlinx.jupyter.messaging.IdeCompatibleMessageRequestProcessor.access$withForkedIn(IdeCompatibleMessageRequestProcessor.kt:67)",
      "\tat org.jetbrains.kotlinx.jupyter.messaging.IdeCompatibleMessageRequestProcessor$evalWithIO$1$1.invoke(IdeCompatibleMessageRequestProcessor.kt:361)",
      "\tat org.jetbrains.kotlinx.jupyter.streams.BlockingSubstitutionEngine.withDataSubstitution(SubstitutionEngine.kt:70)",
      "\tat org.jetbrains.kotlinx.jupyter.streams.StreamSubstitutionManager.withSubstitutedStreams(StreamSubstitutionManager.kt:118)",
      "\tat org.jetbrains.kotlinx.jupyter.messaging.IdeCompatibleMessageRequestProcessor.withForkedErr(IdeCompatibleMessageRequestProcessor.kt:336)",
      "\tat org.jetbrains.kotlinx.jupyter.messaging.IdeCompatibleMessageRequestProcessor.access$withForkedErr(IdeCompatibleMessageRequestProcessor.kt:67)",
      "\tat org.jetbrains.kotlinx.jupyter.messaging.IdeCompatibleMessageRequestProcessor$evalWithIO$1.invoke(IdeCompatibleMessageRequestProcessor.kt:360)",
      "\tat org.jetbrains.kotlinx.jupyter.streams.BlockingSubstitutionEngine.withDataSubstitution(SubstitutionEngine.kt:70)",
      "\tat org.jetbrains.kotlinx.jupyter.streams.StreamSubstitutionManager.withSubstitutedStreams(StreamSubstitutionManager.kt:118)",
      "\tat org.jetbrains.kotlinx.jupyter.messaging.IdeCompatibleMessageRequestProcessor.withForkedOut(IdeCompatibleMessageRequestProcessor.kt:328)",
      "\tat org.jetbrains.kotlinx.jupyter.messaging.IdeCompatibleMessageRequestProcessor.evalWithIO(IdeCompatibleMessageRequestProcessor.kt:359)",
      "\tat org.jetbrains.kotlinx.jupyter.messaging.IdeCompatibleMessageRequestProcessor$processExecuteRequest$1$response$1.invoke(IdeCompatibleMessageRequestProcessor.kt:170)",
      "\tat org.jetbrains.kotlinx.jupyter.messaging.IdeCompatibleMessageRequestProcessor$processExecuteRequest$1$response$1.invoke(IdeCompatibleMessageRequestProcessor.kt:169)",
      "\tat org.jetbrains.kotlinx.jupyter.execution.JupyterExecutorImpl$Task.execute(JupyterExecutorImpl.kt:41)",
      "\tat org.jetbrains.kotlinx.jupyter.execution.JupyterExecutorImpl$executorThread$1.invoke(JupyterExecutorImpl.kt:81)",
      "\tat org.jetbrains.kotlinx.jupyter.execution.JupyterExecutorImpl$executorThread$1.invoke(JupyterExecutorImpl.kt:79)",
      "\tat kotlin.concurrent.ThreadsKt$thread$thread$1.run(Thread.kt:30)",
      ""
     ]
    }
   ],
   "execution_count": 51
  },
  {
   "metadata": {},
   "cell_type": "code",
   "outputs": [],
   "execution_count": null,
   "source": ""
  }
 ],
 "metadata": {
  "kernelspec": {
   "display_name": "Kotlin",
   "language": "kotlin",
   "name": "kotlin"
  },
  "language_info": {
   "name": "kotlin",
   "version": "1.9.23",
   "mimetype": "text/x-kotlin",
   "file_extension": ".kt",
   "pygments_lexer": "kotlin",
   "codemirror_mode": "text/x-kotlin",
   "nbconvert_exporter": ""
  }
 },
 "nbformat": 4,
 "nbformat_minor": 0
}
