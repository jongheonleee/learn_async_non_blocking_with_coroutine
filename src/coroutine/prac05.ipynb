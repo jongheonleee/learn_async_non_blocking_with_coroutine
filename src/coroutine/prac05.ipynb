{
 "cells": [
  {
   "cell_type": "code",
   "metadata": {
    "collapsed": true,
    "ExecuteTime": {
     "end_time": "2025-04-29T03:35:14.205792Z",
     "start_time": "2025-04-29T03:35:14.156104Z"
    }
   },
   "source": [
    "import kotlinx.coroutines.*\n",
    "import kotlinx.coroutines.flow.*\n",
    "import kotlin.system.*"
   ],
   "outputs": [],
   "execution_count": 1
  },
  {
   "metadata": {
    "ExecuteTime": {
     "end_time": "2025-04-29T03:42:48.864373Z",
     "start_time": "2025-04-29T03:42:46.879613Z"
    }
   },
   "cell_type": "code",
   "source": [
    "fun simple(): Flow<Int> = flow {\n",
    "    for (i in 1..3) {\n",
    "        delay(100)\n",
    "        emit(i)\n",
    "    }\n",
    "}\n",
    "\n",
    "runBlocking<Unit> {\n",
    "    val time = measureTimeMillis {\n",
    "        simple().collect { value ->\n",
    "            delay(500)\n",
    "            println(value)\n",
    "        }\n",
    "    }\n",
    "\n",
    "    println(\"Collected in $time ms\")\n",
    "}"
   ],
   "outputs": [
    {
     "name": "stdout",
     "output_type": "stream",
     "text": [
      "1\n",
      "2\n",
      "3\n",
      "Collected in 1815 ms\n"
     ]
    }
   ],
   "execution_count": 11
  },
  {
   "metadata": {
    "ExecuteTime": {
     "end_time": "2025-04-29T03:42:51.543181Z",
     "start_time": "2025-04-29T03:42:49.795258Z"
    }
   },
   "cell_type": "code",
   "source": [
    "fun simple(): Flow<Int> = flow {\n",
    "    for (i in 1..3) {\n",
    "        delay(100)\n",
    "        emit(i)\n",
    "    }\n",
    "}\n",
    "\n",
    "runBlocking<Unit> {\n",
    "    val time = measureTimeMillis {\n",
    "        simple().buffer() // 버퍼 추가해서 송신 측에서 기다리지 않게 구성함\n",
    "            .collect{ value ->\n",
    "                delay(500)\n",
    "                println(value)\n",
    "            }\n",
    "    }\n",
    "\n",
    "    println(\"Collected in $time ms\")\n",
    "}"
   ],
   "outputs": [
    {
     "name": "stdout",
     "output_type": "stream",
     "text": [
      "1\n",
      "2\n",
      "3\n",
      "Collected in 1608 ms\n"
     ]
    }
   ],
   "execution_count": 12
  },
  {
   "metadata": {
    "ExecuteTime": {
     "end_time": "2025-04-29T03:45:42.083482Z",
     "start_time": "2025-04-29T03:45:40.335565Z"
    }
   },
   "cell_type": "code",
   "source": [
    "import kotlinx.coroutines.*\n",
    "import kotlinx.coroutines.flow.*\n",
    "import kotlin.system.*\n",
    "\n",
    "fun simple(): Flow<Int> = flow {\n",
    "    for (i in 1..10) {\n",
    "        delay(100)\n",
    "        emit(i)\n",
    "    }\n",
    "}\n",
    "\n",
    "runBlocking<Unit> {\n",
    "    val time = measureTimeMillis {\n",
    "        simple().conflate() // 처리보다 빨리 발생한 데이터의 중간 값들을 누락\n",
    "            .collect { value ->\n",
    "                delay(300)\n",
    "                println(value)\n",
    "            }\n",
    "    }\n",
    "\n",
    "    println(\"Collected in $time ms\")\n",
    "}"
   ],
   "outputs": [
    {
     "name": "stdout",
     "output_type": "stream",
     "text": [
      "1\n",
      "5\n",
      "10\n",
      "Collected in 1614 ms\n"
     ]
    }
   ],
   "execution_count": 15
  },
  {
   "metadata": {
    "ExecuteTime": {
     "end_time": "2025-04-29T03:48:24.799466Z",
     "start_time": "2025-04-29T03:48:24.029961Z"
    }
   },
   "cell_type": "code",
   "source": [
    "fun simple(): Flow<Int> = flow {\n",
    "    for (i in 1..3) {\n",
    "        delay(100)\n",
    "        emit(i)\n",
    "    }\n",
    "}\n",
    "\n",
    "runBlocking<Unit> {\n",
    "    val time = measureTimeMillis {\n",
    "        // conflate와 같이 방출되는 값을 누락할 수도 있지만 수집 측이 느릴 경우\n",
    "        // 새로운 데이터가 있을 때 수집 측을 종료시키고 새로 시작\n",
    "        simple().collectLatest { value ->\n",
    "            println(\"값 $value 를 처리하기 시작합니다.\")\n",
    "            delay(300)\n",
    "            println(value)\n",
    "            println(\"처리를 완료했습니다.\")\n",
    "        }\n",
    "    }\n",
    "\n",
    "    println(\"Collected in $time ms\")\n",
    "}"
   ],
   "outputs": [
    {
     "name": "stdout",
     "output_type": "stream",
     "text": [
      "값 1 를 처리하기 시작합니다.\n",
      "값 2 를 처리하기 시작합니다.\n",
      "값 3 를 처리하기 시작합니다.\n",
      "3\n",
      "처리를 완료했습니다.\n",
      "Collected in 617 ms\n"
     ]
    }
   ],
   "execution_count": 17
  },
  {
   "metadata": {
    "ExecuteTime": {
     "end_time": "2025-04-29T03:50:57.397762Z",
     "start_time": "2025-04-29T03:50:57.298890Z"
    }
   },
   "cell_type": "code",
   "source": [
    "// zip은 양쪽의 데이터를 한꺼번에 묶어 새로운 데이터를 만듦\n",
    "runBlocking<Unit> {\n",
    "    val nums = (1..3).asFlow()\n",
    "    val strs = flowOf(\"일\", \"이\", \"삼\")\n",
    "\n",
    "    nums.zip(strs) { a, b -> \"${a}은(는) ${b}\" }\n",
    "        .collect { println(it) }\n",
    "}"
   ],
   "outputs": [
    {
     "name": "stdout",
     "output_type": "stream",
     "text": [
      "1은(는) 일\n",
      "2은(는) 이\n",
      "3은(는) 삼\n"
     ]
    }
   ],
   "execution_count": 19
  },
  {
   "metadata": {
    "ExecuteTime": {
     "end_time": "2025-04-29T03:52:41.564208Z",
     "start_time": "2025-04-29T03:52:40.796999Z"
    }
   },
   "cell_type": "code",
   "source": [
    "// combine은 양쪽의 데이터를 같은 시점에 묶지 않고 한 쪽이 갱신되면 새로 묶어 데이터를 만듦\n",
    "runBlocking {\n",
    "    val nums = (1..3).asFlow().onEach { delay(100L) }\n",
    "    val strs = flowOf(\"일\", \"이\", \"삼\").onEach { delay(200L) }\n",
    "\n",
    "    nums.combine(strs) { a, b -> \"${a}은(는) ${b}\"}\n",
    "        .collect{ println(it) }\n",
    "}"
   ],
   "outputs": [
    {
     "name": "stdout",
     "output_type": "stream",
     "text": [
      "1은(는) 일\n",
      "2은(는) 일\n",
      "3은(는) 일\n",
      "3은(는) 이\n",
      "3은(는) 삼\n"
     ]
    }
   ],
   "execution_count": 20
  },
  {
   "metadata": {
    "ExecuteTime": {
     "end_time": "2025-04-29T03:55:56.838112Z",
     "start_time": "2025-04-29T03:55:54.833401Z"
    }
   },
   "cell_type": "code",
   "source": [
    "\n",
    "fun requestFlow(i: Int): Flow<String>  = flow {\n",
    "    emit(\"$i: First\")\n",
    "    delay(500)\n",
    "    emit(\"$i: Second\")\n",
    "}\n",
    "\n",
    "runBlocking<Unit> {\n",
    "    val startTime = System.currentTimeMillis()\n",
    "\n",
    "    (1..3).asFlow()\n",
    "                 .onEach { delay(100) }\n",
    "                 .flatMapConcat { requestFlow(it) } // flatMapConcat은 첫번째 요소에 대해서 플레트닝을 하고 나서 두번째 요소를 처리함\n",
    "                 .collect { value -> println(\"$value at ${System.currentTimeMillis() - startTime} ms from start\")}\n",
    "}"
   ],
   "outputs": [
    {
     "name": "stdout",
     "output_type": "stream",
     "text": [
      "1: First at 106 ms from start\n",
      "1: Second at 612 ms from start\n",
      "2: First at 715 ms from start\n",
      "2: Second at 1217 ms from start\n",
      "3: First at 1321 ms from start\n",
      "3: Second at 1823 ms from start\n"
     ]
    }
   ],
   "execution_count": 21
  },
  {
   "metadata": {
    "ExecuteTime": {
     "end_time": "2025-04-29T03:59:38.697077Z",
     "start_time": "2025-04-29T03:59:38.073934Z"
    }
   },
   "cell_type": "code",
   "source": [
    "fun requestFlow(i: Int): Flow<String> = flow {\n",
    "    emit(\"$i: First\")\n",
    "    delay(500)\n",
    "    emit(\"$i: Second\")\n",
    "}\n",
    "\n",
    "runBlocking<Unit> {\n",
    "    val startTime = System.currentTimeMillis()\n",
    "\n",
    "    (1..3).asFlow()\n",
    "                .onEach { delay(100) }\n",
    "                .flatMapMerge { requestFlow(it) }// flatMapMerge는 첫 요소의 프레트닝을 시작하며 이어 다음 요소의 플레트닝을 시작\n",
    "                .collect{ value ->  println(\"$value at ${System.currentTimeMillis() - startTime} ms from start\") }\n",
    "}"
   ],
   "outputs": [
    {
     "name": "stdout",
     "output_type": "stream",
     "text": [
      "1: First at 2 ms from start\n",
      "2: First at 2 ms from start\n",
      "3: First at 2 ms from start\n",
      "1: Second at 505 ms from start\n",
      "2: Second at 505 ms from start\n",
      "3: Second at 505 ms from start\n"
     ]
    }
   ],
   "execution_count": 23
  },
  {
   "metadata": {
    "ExecuteTime": {
     "end_time": "2025-04-29T04:01:22.525416Z",
     "start_time": "2025-04-29T04:01:21.523814Z"
    }
   },
   "cell_type": "code",
   "source": [
    "fun requestFlow(i: Int): Flow<String> = flow {\n",
    "    emit(\"$i: First\")\n",
    "    delay(500)\n",
    "    emit(\"$i: Second\")\n",
    "}\n",
    "\n",
    "runBlocking<Unit> {\n",
    "    val startTime = System.currentTimeMillis()\n",
    "\n",
    "    (1..3).asFlow()\n",
    "                .onEach { delay(100) }\n",
    "                .flatMapLatest { requestFlow(it) } // 다음 요소의 플레트닝을 시작하며 이전에 진행 중이던 플레트닝을 취소\n",
    "                .collect{ value ->  println(\"$value at ${System.currentTimeMillis() - startTime} ms from start\") }\n",
    "}"
   ],
   "outputs": [
    {
     "name": "stdout",
     "output_type": "stream",
     "text": [
      "1: First at 104 ms from start\n",
      "2: First at 206 ms from start\n",
      "3: First at 310 ms from start\n",
      "3: Second at 813 ms from start\n"
     ]
    }
   ],
   "execution_count": 24
  },
  {
   "metadata": {
    "ExecuteTime": {
     "end_time": "2025-04-29T04:03:41.690734Z",
     "start_time": "2025-04-29T04:03:41.555864Z"
    }
   },
   "cell_type": "code",
   "source": [
    "// 예외는 collect을 하는 수집기 측에서도 try-catch 식을 이용할 수 있음\n",
    "\n",
    "fun simple(): Flow<Int> = flow {\n",
    "    for (i in 1..3) {\n",
    "        println(\"Emitting $i\")\n",
    "        emit(i)\n",
    "    }\n",
    "}\n",
    "\n",
    "runBlocking<Unit> {\n",
    "    try {\n",
    "        simple().collect { value ->\n",
    "            println(value)\n",
    "            check(value <= 1) { \"Collected $value\" }\n",
    "        }\n",
    "    } catch (e: Throwable) {\n",
    "        println(\"Caught $e\")\n",
    "    }\n",
    "}"
   ],
   "outputs": [
    {
     "name": "stdout",
     "output_type": "stream",
     "text": [
      "Emitting 1\n",
      "1\n",
      "Emitting 2\n",
      "2\n",
      "Caught java.lang.IllegalStateException: Collected 2\n"
     ]
    }
   ],
   "execution_count": 25
  },
  {
   "metadata": {
    "ExecuteTime": {
     "end_time": "2025-04-29T04:06:04.141924Z",
     "start_time": "2025-04-29T04:06:03.972492Z"
    }
   },
   "cell_type": "code",
   "source": [
    "// 모든 예외는 처리가능\n",
    "fun simple(): Flow<String> =\n",
    "    flow {\n",
    "        for (i in 1..3) {\n",
    "            println(\"Emitting $i\")\n",
    "            emit(i)\n",
    "        }\n",
    "    }.map{value ->\n",
    "        check(value <= 1) { \"Crashed on $value\" }\n",
    "        \"string $value\"\n",
    "    }\n",
    "\n",
    "runBlocking {\n",
    "    try {\n",
    "        simple().collect { println(it) }\n",
    "    } catch (e: Throwable) {\n",
    "        println(\"Caught $e\")\n",
    "    }\n",
    "}"
   ],
   "outputs": [
    {
     "name": "stdout",
     "output_type": "stream",
     "text": [
      "Emitting 1\n",
      "string 1\n",
      "Emitting 2\n",
      "Caught java.lang.IllegalStateException: Crashed on 2\n"
     ]
    }
   ],
   "execution_count": 26
  },
  {
   "metadata": {
    "ExecuteTime": {
     "end_time": "2025-04-29T04:09:54.116510Z",
     "start_time": "2025-04-29T04:09:53.980086Z"
    }
   },
   "cell_type": "code",
   "source": [
    "fun simple(): Flow<String> =\n",
    "    flow {\n",
    "        for (i in 1..3) {\n",
    "            println(\"Emitting $i\")\n",
    "            emit(i)\n",
    "        }\n",
    "    }.map{ value ->\n",
    "        check(value <= 1) { \"Crashed on $value\" }\n",
    "        \"string $value\"\n",
    "    }\n",
    "\n",
    "runBlocking {\n",
    "    simple().catch { e -> emit(\"Caught $e\") } //  플로우에서는 catch 연산자를 이용하는 것을 권함\n",
    "        // catch 블록에서 예외를 새로운 데이터로 만들어 emit을 하거나, 다시 예외를 던지거나, 로그를 남길 수 있음\n",
    "        .collect { println(it) }\n",
    "}"
   ],
   "outputs": [
    {
     "name": "stdout",
     "output_type": "stream",
     "text": [
      "Emitting 1\n",
      "string 1\n",
      "Emitting 2\n",
      "Caught java.lang.IllegalStateException: Crashed on 2\n"
     ]
    }
   ],
   "execution_count": 28
  },
  {
   "metadata": {
    "ExecuteTime": {
     "end_time": "2025-04-29T04:11:59.182177Z",
     "start_time": "2025-04-29T04:11:59.076783Z"
    }
   },
   "cell_type": "code",
   "source": [
    "fun simple(): Flow<Int> = flow {\n",
    "    for (i in 1..3) {\n",
    "        println(\"Emitting $i\")\n",
    "        emit(i)\n",
    "    }\n",
    "}\n",
    "\n",
    "runBlocking {\n",
    "    simple().catch { e -> println(\"Caught $e\") } // catch 연산자는 업스트림(catch 연산자를 쓰기 전의 코드)에만 영향을 미치고 다운스트림에는 영향을 미치지 않음\n",
    "        // 이를 catch 투명성이라고함\n",
    "        .collect { value ->\n",
    "            check(value <= 1) { \"Collected $value\" }\n",
    "            println(value)\n",
    "        }\n",
    "}"
   ],
   "outputs": [
    {
     "name": "stdout",
     "output_type": "stream",
     "text": [
      "Emitting 1\n",
      "1\n",
      "Emitting 2\n"
     ]
    },
    {
     "ename": "java.lang.IllegalStateException",
     "evalue": "Collected 2",
     "output_type": "error",
     "traceback": [
      "java.lang.IllegalStateException: Collected 2",
      "\tat Line_35_jupyter$1$2.emit(Line_35.jupyter.kts:12) at Cell In[30], line 12",
      "\tat Line_35_jupyter$1$2.emit(Line_35.jupyter.kts:11) at Cell In[30], line 11",
      "\tat kotlinx.coroutines.flow.FlowKt__ErrorsKt$catchImpl$2.emit(Errors.kt:158)",
      "\tat kotlinx.coroutines.flow.internal.SafeCollectorKt$emitFun$1.invoke(SafeCollector.kt:15)",
      "\tat kotlinx.coroutines.flow.internal.SafeCollectorKt$emitFun$1.invoke(SafeCollector.kt:15)",
      "\tat kotlinx.coroutines.flow.internal.SafeCollector.emit(SafeCollector.kt:87)",
      "\tat kotlinx.coroutines.flow.internal.SafeCollector.emit(SafeCollector.kt:66)",
      "\tat Line_35_jupyter$simple$1.invokeSuspend(Line_35.jupyter.kts:4) at Cell In[30], line 4",
      "\tat Line_35_jupyter$simple$1.invoke(Line_35.jupyter.kts)",
      "\tat Line_35_jupyter$simple$1.invoke(Line_35.jupyter.kts)",
      "\tat kotlinx.coroutines.flow.SafeFlow.collectSafely(Builders.kt:61)",
      "\tat kotlinx.coroutines.flow.AbstractFlow.collect(Flow.kt:230)",
      "\tat kotlinx.coroutines.flow.FlowKt__ErrorsKt.catchImpl(Errors.kt:156)",
      "\tat kotlinx.coroutines.flow.FlowKt.catchImpl(Unknown Source)",
      "\tat kotlinx.coroutines.flow.FlowKt__ErrorsKt$catch$$inlined$unsafeFlow$1.collect(SafeCollector.common.kt:114)",
      "\tat Line_35_jupyter$1.invokeSuspend(Line_35.jupyter.kts:11) at Cell In[30], line 11",
      "\tat kotlin.coroutines.jvm.internal.BaseContinuationImpl.resumeWith(ContinuationImpl.kt:33)",
      "\tat kotlinx.coroutines.DispatchedTask.run(DispatchedTask.kt:108)",
      "\tat kotlinx.coroutines.EventLoopImplBase.processNextEvent(EventLoop.common.kt:280)",
      "\tat kotlinx.coroutines.BlockingCoroutine.joinBlocking(Builders.kt:85)",
      "\tat kotlinx.coroutines.BuildersKt__BuildersKt.runBlocking(Builders.kt:59)",
      "\tat kotlinx.coroutines.BuildersKt.runBlocking(Unknown Source)",
      "\tat kotlinx.coroutines.BuildersKt__BuildersKt.runBlocking$default(Builders.kt:38)",
      "\tat kotlinx.coroutines.BuildersKt.runBlocking$default(Unknown Source)",
      "\tat Line_35_jupyter.<init>(Line_35.jupyter.kts:8) at Cell In[30], line 8",
      "\tat java.base/jdk.internal.reflect.NativeConstructorAccessorImpl.newInstance0(Native Method)",
      "\tat java.base/jdk.internal.reflect.NativeConstructorAccessorImpl.newInstance(NativeConstructorAccessorImpl.java:77)",
      "\tat java.base/jdk.internal.reflect.DelegatingConstructorAccessorImpl.newInstance(DelegatingConstructorAccessorImpl.java:45)",
      "\tat java.base/java.lang.reflect.Constructor.newInstanceWithCaller(Constructor.java:500)",
      "\tat java.base/java.lang.reflect.Constructor.newInstance(Constructor.java:481)",
      "\tat kotlin.script.experimental.jvm.BasicJvmScriptEvaluator.evalWithConfigAndOtherScriptsResults(BasicJvmScriptEvaluator.kt:122)",
      "\tat kotlin.script.experimental.jvm.BasicJvmScriptEvaluator.invoke$suspendImpl(BasicJvmScriptEvaluator.kt:48)",
      "\tat kotlin.script.experimental.jvm.BasicJvmScriptEvaluator.invoke(BasicJvmScriptEvaluator.kt)",
      "\tat kotlin.script.experimental.jvm.BasicJvmReplEvaluator.eval(BasicJvmReplEvaluator.kt:49)",
      "\tat org.jetbrains.kotlinx.jupyter.repl.impl.InternalEvaluatorImpl$eval$resultWithDiagnostics$1.invokeSuspend(InternalEvaluatorImpl.kt:137)",
      "\tat kotlin.coroutines.jvm.internal.BaseContinuationImpl.resumeWith(ContinuationImpl.kt:33)",
      "\tat kotlinx.coroutines.DispatchedTask.run(DispatchedTask.kt:104)",
      "\tat kotlinx.coroutines.EventLoopImplBase.processNextEvent(EventLoop.common.kt:277)",
      "\tat kotlinx.coroutines.BlockingCoroutine.joinBlocking(Builders.kt:95)",
      "\tat kotlinx.coroutines.BuildersKt__BuildersKt.runBlocking(Builders.kt:69)",
      "\tat kotlinx.coroutines.BuildersKt.runBlocking(Unknown Source)",
      "\tat kotlinx.coroutines.BuildersKt__BuildersKt.runBlocking$default(Builders.kt:48)",
      "\tat kotlinx.coroutines.BuildersKt.runBlocking$default(Unknown Source)",
      "\tat org.jetbrains.kotlinx.jupyter.repl.impl.InternalEvaluatorImpl.eval(InternalEvaluatorImpl.kt:137)",
      "\tat org.jetbrains.kotlinx.jupyter.repl.impl.CellExecutorImpl$execute$1$result$1.invoke(CellExecutorImpl.kt:80)",
      "\tat org.jetbrains.kotlinx.jupyter.repl.impl.CellExecutorImpl$execute$1$result$1.invoke(CellExecutorImpl.kt:78)",
      "\tat org.jetbrains.kotlinx.jupyter.repl.impl.ReplForJupyterImpl.withHost(ReplForJupyterImpl.kt:774)",
      "\tat org.jetbrains.kotlinx.jupyter.repl.impl.CellExecutorImpl.execute-L4Nmkdk(CellExecutorImpl.kt:78)",
      "\tat org.jetbrains.kotlinx.jupyter.repl.execution.CellExecutor$DefaultImpls.execute-L4Nmkdk$default(CellExecutor.kt:13)",
      "\tat org.jetbrains.kotlinx.jupyter.repl.impl.ReplForJupyterImpl.evaluateUserCode-wNURfNM(ReplForJupyterImpl.kt:596)",
      "\tat org.jetbrains.kotlinx.jupyter.repl.impl.ReplForJupyterImpl.evalExImpl(ReplForJupyterImpl.kt:454)",
      "\tat org.jetbrains.kotlinx.jupyter.repl.impl.ReplForJupyterImpl.access$evalExImpl(ReplForJupyterImpl.kt:141)",
      "\tat org.jetbrains.kotlinx.jupyter.repl.impl.ReplForJupyterImpl$evalEx$1.invoke(ReplForJupyterImpl.kt:447)",
      "\tat org.jetbrains.kotlinx.jupyter.repl.impl.ReplForJupyterImpl$evalEx$1.invoke(ReplForJupyterImpl.kt:446)",
      "\tat org.jetbrains.kotlinx.jupyter.repl.impl.ReplForJupyterImpl.withEvalContext(ReplForJupyterImpl.kt:427)",
      "\tat org.jetbrains.kotlinx.jupyter.repl.impl.ReplForJupyterImpl.evalEx(ReplForJupyterImpl.kt:446)",
      "\tat org.jetbrains.kotlinx.jupyter.messaging.IdeCompatibleMessageRequestProcessor$processExecuteRequest$1$response$1$1.invoke(IdeCompatibleMessageRequestProcessor.kt:171)",
      "\tat org.jetbrains.kotlinx.jupyter.messaging.IdeCompatibleMessageRequestProcessor$processExecuteRequest$1$response$1$1.invoke(IdeCompatibleMessageRequestProcessor.kt:170)",
      "\tat org.jetbrains.kotlinx.jupyter.streams.BlockingSubstitutionEngine.withDataSubstitution(SubstitutionEngine.kt:70)",
      "\tat org.jetbrains.kotlinx.jupyter.streams.StreamSubstitutionManager.withSubstitutedStreams(StreamSubstitutionManager.kt:118)",
      "\tat org.jetbrains.kotlinx.jupyter.messaging.IdeCompatibleMessageRequestProcessor.withForkedIn(IdeCompatibleMessageRequestProcessor.kt:347)",
      "\tat org.jetbrains.kotlinx.jupyter.messaging.IdeCompatibleMessageRequestProcessor.access$withForkedIn(IdeCompatibleMessageRequestProcessor.kt:67)",
      "\tat org.jetbrains.kotlinx.jupyter.messaging.IdeCompatibleMessageRequestProcessor$evalWithIO$1$1.invoke(IdeCompatibleMessageRequestProcessor.kt:361)",
      "\tat org.jetbrains.kotlinx.jupyter.streams.BlockingSubstitutionEngine.withDataSubstitution(SubstitutionEngine.kt:70)",
      "\tat org.jetbrains.kotlinx.jupyter.streams.StreamSubstitutionManager.withSubstitutedStreams(StreamSubstitutionManager.kt:118)",
      "\tat org.jetbrains.kotlinx.jupyter.messaging.IdeCompatibleMessageRequestProcessor.withForkedErr(IdeCompatibleMessageRequestProcessor.kt:336)",
      "\tat org.jetbrains.kotlinx.jupyter.messaging.IdeCompatibleMessageRequestProcessor.access$withForkedErr(IdeCompatibleMessageRequestProcessor.kt:67)",
      "\tat org.jetbrains.kotlinx.jupyter.messaging.IdeCompatibleMessageRequestProcessor$evalWithIO$1.invoke(IdeCompatibleMessageRequestProcessor.kt:360)",
      "\tat org.jetbrains.kotlinx.jupyter.streams.BlockingSubstitutionEngine.withDataSubstitution(SubstitutionEngine.kt:70)",
      "\tat org.jetbrains.kotlinx.jupyter.streams.StreamSubstitutionManager.withSubstitutedStreams(StreamSubstitutionManager.kt:118)",
      "\tat org.jetbrains.kotlinx.jupyter.messaging.IdeCompatibleMessageRequestProcessor.withForkedOut(IdeCompatibleMessageRequestProcessor.kt:328)",
      "\tat org.jetbrains.kotlinx.jupyter.messaging.IdeCompatibleMessageRequestProcessor.evalWithIO(IdeCompatibleMessageRequestProcessor.kt:359)",
      "\tat org.jetbrains.kotlinx.jupyter.messaging.IdeCompatibleMessageRequestProcessor$processExecuteRequest$1$response$1.invoke(IdeCompatibleMessageRequestProcessor.kt:170)",
      "\tat org.jetbrains.kotlinx.jupyter.messaging.IdeCompatibleMessageRequestProcessor$processExecuteRequest$1$response$1.invoke(IdeCompatibleMessageRequestProcessor.kt:169)",
      "\tat org.jetbrains.kotlinx.jupyter.execution.JupyterExecutorImpl$Task.execute(JupyterExecutorImpl.kt:41)",
      "\tat org.jetbrains.kotlinx.jupyter.execution.JupyterExecutorImpl$executorThread$1.invoke(JupyterExecutorImpl.kt:81)",
      "\tat org.jetbrains.kotlinx.jupyter.execution.JupyterExecutorImpl$executorThread$1.invoke(JupyterExecutorImpl.kt:79)",
      "\tat kotlin.concurrent.ThreadsKt$thread$thread$1.run(Thread.kt:30)",
      "",
      "java.lang.IllegalStateException: Collected 2",
      "at Cell In[30], line 12",
      ""
     ]
    }
   ],
   "execution_count": 30
  },
  {
   "metadata": {
    "ExecuteTime": {
     "end_time": "2025-04-29T04:13:01.903247Z",
     "start_time": "2025-04-29T04:13:01.804900Z"
    }
   },
   "cell_type": "code",
   "source": [
    "fun simple(): Flow<Int> = (1..3).asFlow()\n",
    "\n",
    "runBlocking<Unit> {\n",
    "    try {\n",
    "        simple().collect { println(it) }\n",
    "    } finally {\n",
    "        println(\"Done!!\")\n",
    "    }\n",
    "}\n"
   ],
   "outputs": [
    {
     "name": "stdout",
     "output_type": "stream",
     "text": [
      "1\n",
      "2\n",
      "3\n",
      "Done!!\n"
     ]
    }
   ],
   "execution_count": 31
  },
  {
   "metadata": {
    "ExecuteTime": {
     "end_time": "2025-04-29T04:13:53.575933Z",
     "start_time": "2025-04-29T04:13:53.482944Z"
    }
   },
   "cell_type": "code",
   "source": [
    "fun simple(): Flow<Int> = (1..3).asFlow()\n",
    "\n",
    "runBlocking {\n",
    "    simple().onCompletion { println(\"Done\") } // onCompletion 연산자를 선언해서 완료를 처리할\n",
    "            .collect { println(it) }\n",
    "}"
   ],
   "outputs": [
    {
     "name": "stdout",
     "output_type": "stream",
     "text": [
      "1\n",
      "2\n",
      "3\n",
      "Done\n"
     ]
    }
   ],
   "execution_count": 32
  },
  {
   "metadata": {
    "ExecuteTime": {
     "end_time": "2025-04-29T04:16:41.303604Z",
     "start_time": "2025-04-29T04:16:41.192799Z"
    }
   },
   "cell_type": "code",
   "source": [
    "// onCompletion은 종료 처리를 할 때 예외가 발생되었는지 여부를 알 수 있음\n",
    "fun simple(): Flow<Int> = flow{\n",
    "    emit(1)\n",
    "    throw RuntimeException()\n",
    "}\n",
    "\n",
    "runBlocking {\n",
    "    simple().onCompletion { cause -> if (cause != null) println(\"Flow completed exceptionally\") }\n",
    "            .catch { cause -> println(\"Caught exception\")  }\n",
    "            .collect { println(it) }\n",
    "}"
   ],
   "outputs": [
    {
     "name": "stdout",
     "output_type": "stream",
     "text": [
      "1\n",
      "Flow completed exceptionally\n",
      "Caught exception\n"
     ]
    }
   ],
   "execution_count": 34
  },
  {
   "metadata": {
    "ExecuteTime": {
     "end_time": "2025-04-29T04:18:01.682590Z",
     "start_time": "2025-04-29T04:18:01.284272Z"
    }
   },
   "cell_type": "code",
   "source": [
    "fun events(): Flow<Int>  = (1..3).asFlow().onEach { delay(100) }\n",
    "\n",
    "runBlocking<Unit> {\n",
    "    events().onEach { println(\"Event $it\") }\n",
    "            .collect() //  collect가 플로가 끝날 때 까지 기다리는 것이 문제\n",
    "\n",
    "    println(\"Done!!\")\n",
    "}"
   ],
   "outputs": [
    {
     "name": "stdout",
     "output_type": "stream",
     "text": [
      "Event 1\n",
      "Event 2\n",
      "Event 3\n",
      "Done!!\n"
     ]
    }
   ],
   "execution_count": 35
  },
  {
   "metadata": {
    "ExecuteTime": {
     "end_time": "2025-04-29T04:19:29.539086Z",
     "start_time": "2025-04-29T04:19:29.442490Z"
    }
   },
   "cell_type": "code",
   "source": [
    "// launchIn을 이용하면 별도의 코루틴에서 플로우를 런칭가능\n",
    "fun evnets(): Flow<Int> = (1..3).asFlow().onEach { delay(100) }\n",
    "\n",
    "runBlocking {\n",
    "    events().onEach { println(\"Event $it\") }\n",
    "    println(\"Done!!\")\n",
    "}"
   ],
   "outputs": [
    {
     "name": "stdout",
     "output_type": "stream",
     "text": [
      "Done!!\n"
     ]
    }
   ],
   "execution_count": 36
  },
  {
   "metadata": {},
   "cell_type": "code",
   "outputs": [],
   "execution_count": null,
   "source": ""
  }
 ],
 "metadata": {
  "kernelspec": {
   "display_name": "Kotlin",
   "language": "kotlin",
   "name": "kotlin"
  },
  "language_info": {
   "name": "kotlin",
   "version": "1.9.23",
   "mimetype": "text/x-kotlin",
   "file_extension": ".kt",
   "pygments_lexer": "kotlin",
   "codemirror_mode": "text/x-kotlin",
   "nbconvert_exporter": ""
  }
 },
 "nbformat": 4,
 "nbformat_minor": 0
}
