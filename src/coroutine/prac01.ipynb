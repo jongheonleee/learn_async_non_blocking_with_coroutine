{
 "cells": [
  {
   "cell_type": "code",
   "metadata": {
    "collapsed": true,
    "ExecuteTime": {
     "end_time": "2025-04-22T06:44:20.202139Z",
     "start_time": "2025-04-22T06:44:19.911237Z"
    }
   },
   "source": [
    "import kotlinx.coroutines.*\n",
    "\n",
    "runBlocking {\n",
    "    println(Thread.currentThread().name)\n",
    "    println(\"Hello\")\n",
    "}"
   ],
   "outputs": [
    {
     "name": "stdout",
     "output_type": "stream",
     "text": [
      "Execution of code 'import kotlinx.corou...'\n",
      "Hello\n"
     ]
    }
   ],
   "execution_count": 1
  },
  {
   "metadata": {
    "ExecuteTime": {
     "end_time": "2025-04-21T05:17:10.126576Z",
     "start_time": "2025-04-21T05:17:10.039157Z"
    }
   },
   "cell_type": "code",
   "source": [
    "runBlocking {\n",
    "    println(this)\n",
    "    println(Thread.currentThread().name)\n",
    "    println(\"Hello!!\")\n",
    "}"
   ],
   "outputs": [
    {
     "name": "stdout",
     "output_type": "stream",
     "text": [
      "BlockingCoroutine{Active}@573441ee\n",
      "Execution of code 'runBlocking {...'\n",
      "Hello!!\n"
     ]
    }
   ],
   "execution_count": 9
  },
  {
   "metadata": {
    "ExecuteTime": {
     "end_time": "2025-04-21T05:26:07.516766Z",
     "start_time": "2025-04-21T05:26:07.363326Z"
    }
   },
   "cell_type": "code",
   "source": [
    "runBlocking {\n",
    "    println(coroutineContext)\n",
    "    println(Thread.currentThread().name)\n",
    "    println(\"Hello\")\n",
    "}"
   ],
   "outputs": [
    {
     "name": "stdout",
     "output_type": "stream",
     "text": [
      "[BlockingCoroutine{Active}@29908191, BlockingEventLoop@244387c6]\n",
      "Execution of code 'runBlocking {...'\n",
      "Hello\n"
     ]
    }
   ],
   "execution_count": 10
  },
  {
   "metadata": {
    "ExecuteTime": {
     "end_time": "2025-04-21T05:34:51.315063Z",
     "start_time": "2025-04-21T05:34:51.162027Z"
    }
   },
   "cell_type": "code",
   "source": [
    "runBlocking {\n",
    "    launch {\n",
    "        println(\"launch: ${Thread.currentThread().name}\")\n",
    "        println(\"World!\")\n",
    "    }\n",
    "\n",
    "    println(\"runBlocking: ${Thread.currentThread().name}\")\n",
    "    println(\"Hello\")\n",
    "}"
   ],
   "outputs": [
    {
     "name": "stdout",
     "output_type": "stream",
     "text": [
      "runBlocking: Execution of code 'runBlocking {...'\n",
      "Hello\n",
      "launch: Execution of code 'runBlocking {...'\n",
      "World!\n"
     ]
    }
   ],
   "execution_count": 11
  },
  {
   "metadata": {
    "ExecuteTime": {
     "end_time": "2025-04-21T05:40:47.034220Z",
     "start_time": "2025-04-21T05:40:46.378465Z"
    }
   },
   "cell_type": "code",
   "source": [
    "runBlocking {\n",
    "    launch {\n",
    "        println(\"launch: ${Thread.currentThread().name}\")\n",
    "        println(\"World!\")\n",
    "    }\n",
    "    println(\"runBlocking: ${Thread.currentThread().name}\")\n",
    "    delay(500L)\n",
    "    println(\"Hello\")\n",
    "}"
   ],
   "outputs": [
    {
     "name": "stdout",
     "output_type": "stream",
     "text": [
      "runBlocking: Execution of code 'runBlocking {...'\n",
      "launch: Execution of code 'runBlocking {...'\n",
      "World!\n",
      "Hello\n"
     ]
    }
   ],
   "execution_count": 12
  },
  {
   "metadata": {
    "ExecuteTime": {
     "end_time": "2025-04-21T05:41:06.972509Z",
     "start_time": "2025-04-21T05:41:06.335404Z"
    }
   },
   "cell_type": "code",
   "source": [
    "runBlocking {\n",
    "    launch {\n",
    "        println(\"launch: ${Thread.currentThread().name}\")\n",
    "        println(\"World!\")\n",
    "    }\n",
    "    println(\"runBlocking: ${Thread.currentThread().name}\")\n",
    "    Thread.sleep(500)\n",
    "    println(\"Hello\")\n",
    "}"
   ],
   "outputs": [
    {
     "name": "stdout",
     "output_type": "stream",
     "text": [
      "runBlocking: Execution of code 'runBlocking {...'\n",
      "Hello\n",
      "launch: Execution of code 'runBlocking {...'\n",
      "World!\n"
     ]
    }
   ],
   "execution_count": 13
  },
  {
   "metadata": {
    "ExecuteTime": {
     "end_time": "2025-04-21T05:41:46.101764Z",
     "start_time": "2025-04-21T05:41:44.950343Z"
    }
   },
   "cell_type": "code",
   "source": [
    "runBlocking {\n",
    "    launch {\n",
    "        println(\"launch1: ${Thread.currentThread().name}\")\n",
    "        delay(1000L)\n",
    "        println(\"3!\")\n",
    "    }\n",
    "    launch {\n",
    "        println(\"launch2: ${Thread.currentThread().name}\")\n",
    "        println(\"1!\")\n",
    "    }\n",
    "    println(\"runBlocking: ${Thread.currentThread().name}\")\n",
    "    delay(500L)\n",
    "    println(\"2!\")\n",
    "}"
   ],
   "outputs": [
    {
     "name": "stdout",
     "output_type": "stream",
     "text": [
      "runBlocking: Execution of code 'runBlocking {...'\n",
      "launch1: Execution of code 'runBlocking {...'\n",
      "launch2: Execution of code 'runBlocking {...'\n",
      "1!\n",
      "2!\n",
      "3!\n"
     ]
    }
   ],
   "execution_count": 14
  },
  {
   "metadata": {
    "ExecuteTime": {
     "end_time": "2025-04-21T05:42:26.643103Z",
     "start_time": "2025-04-21T05:42:25.469960Z"
    }
   },
   "cell_type": "code",
   "source": [
    "runBlocking {\n",
    "    launch {\n",
    "        println(\"launch1: ${Thread.currentThread().name}\")\n",
    "        delay(1000L)\n",
    "        println(\"3!\")\n",
    "    }\n",
    "    launch {\n",
    "        println(\"launch2: ${Thread.currentThread().name}\")\n",
    "        println(\"1!\")\n",
    "    }\n",
    "    println(\"runBlocking: ${Thread.currentThread().name}\")\n",
    "    delay(500L)\n",
    "    println(\"2!\")\n",
    "}\n",
    "print(\"4!\")"
   ],
   "outputs": [
    {
     "name": "stdout",
     "output_type": "stream",
     "text": [
      "runBlocking: Execution of code 'runBlocking {...'\n",
      "launch1: Execution of code 'runBlocking {...'\n",
      "launch2: Execution of code 'runBlocking {...'\n",
      "1!\n",
      "2!\n",
      "3!\n",
      "4!"
     ]
    }
   ],
   "execution_count": 15
  },
  {
   "metadata": {
    "ExecuteTime": {
     "end_time": "2025-04-21T05:43:22.208795Z",
     "start_time": "2025-04-21T05:43:21.056723Z"
    }
   },
   "cell_type": "code",
   "source": [
    "suspend fun doThree() {\n",
    "    println(\"launch1: ${Thread.currentThread().name}\")\n",
    "    delay(1000L)\n",
    "    println(\"3!\")\n",
    "}\n",
    "\n",
    "suspend fun doOne() {\n",
    "    println(\"launch1: ${Thread.currentThread().name}\")\n",
    "    println(\"1!\")\n",
    "}\n",
    "\n",
    "suspend fun doTwo() {\n",
    "    println(\"runBlocking: ${Thread.currentThread().name}\")\n",
    "    delay(500L)\n",
    "    println(\"2!\")\n",
    "}\n",
    "\n",
    "runBlocking {\n",
    "    launch {\n",
    "        doThree()\n",
    "    }\n",
    "    launch {\n",
    "        doOne()\n",
    "    }\n",
    "    doTwo()\n",
    "}"
   ],
   "outputs": [
    {
     "name": "stdout",
     "output_type": "stream",
     "text": [
      "runBlocking: Execution of code 'suspend fun doThree(...'\n",
      "launch1: Execution of code 'suspend fun doThree(...'\n",
      "launch1: Execution of code 'suspend fun doThree(...'\n",
      "1!\n",
      "2!\n",
      "3!\n"
     ]
    }
   ],
   "execution_count": 17
  },
  {
   "metadata": {},
   "cell_type": "code",
   "outputs": [],
   "execution_count": null,
   "source": ""
  }
 ],
 "metadata": {
  "kernelspec": {
   "display_name": "Kotlin",
   "language": "kotlin",
   "name": "kotlin"
  },
  "language_info": {
   "name": "kotlin",
   "version": "1.9.23",
   "mimetype": "text/x-kotlin",
   "file_extension": ".kt",
   "pygments_lexer": "kotlin",
   "codemirror_mode": "text/x-kotlin",
   "nbconvert_exporter": ""
  }
 },
 "nbformat": 4,
 "nbformat_minor": 0
}
