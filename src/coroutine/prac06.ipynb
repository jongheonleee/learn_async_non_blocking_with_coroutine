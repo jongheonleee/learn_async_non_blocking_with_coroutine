{
 "cells": [
  {
   "cell_type": "code",
   "metadata": {
    "collapsed": true,
    "ExecuteTime": {
     "end_time": "2025-04-29T04:20:19.732264Z",
     "start_time": "2025-04-29T04:20:19.691159Z"
    }
   },
   "source": [
    "import kotlinx.coroutines.*\n",
    "import kotlinx.coroutines.channels.*"
   ],
   "outputs": [],
   "execution_count": 1
  },
  {
   "metadata": {
    "ExecuteTime": {
     "end_time": "2025-04-29T04:21:11.630527Z",
     "start_time": "2025-04-29T04:21:11.055771Z"
    }
   },
   "cell_type": "code",
   "source": [
    "import kotlinx.coroutines.runBlocking\n",
    "\n",
    "runBlocking {\n",
    "    val channel = Channel<Int>() // 채널은 일종의 파이프\n",
    "    launch {\n",
    "        for (x in 1..10) {\n",
    "            channel.send(x) // 송신측에서 채널에 send로 데이터를 전달\n",
    "        }\n",
    "    }\n",
    "\n",
    "    repeat(10) {\n",
    "        println(channel.receive()) //  수신 측에서 채널을 통해 receive 받\n",
    "    }\n",
    "\n",
    "    println(\"Done!!\")\n",
    "}"
   ],
   "outputs": [
    {
     "name": "stdout",
     "output_type": "stream",
     "text": [
      "1\n",
      "2\n",
      "3\n",
      "4\n",
      "5\n",
      "6\n",
      "7\n",
      "8\n",
      "9\n",
      "10\n",
      "Done!!\n"
     ]
    }
   ],
   "execution_count": 2
  },
  {
   "metadata": {
    "ExecuteTime": {
     "end_time": "2025-04-29T04:23:56.254246Z",
     "start_time": "2025-04-29T04:23:18.419039Z"
    }
   },
   "cell_type": "code",
   "source": [
    "// send나 receive가 suspension point이고 서로에게 의존적이기 때문에 같은 코루틴에서 사용하는 것은 위험\n",
    "// 무한으로 대기에 빠짐\n",
    "runBlocking {\n",
    "    val channel = Channel<Int>()\n",
    "\n",
    "    launch {\n",
    "        for (x in 1..10) {\n",
    "            channel.send(x)\n",
    "        }\n",
    "\n",
    "        repeat(10) {\n",
    "            println(channel.receive())\n",
    "        }\n",
    "\n",
    "        println(\"Done!!\")\n",
    "    }\n",
    "}\n"
   ],
   "outputs": [
    {
     "ename": "org.jetbrains.kotlinx.jupyter.exceptions.ReplInterruptedException",
     "evalue": "The execution was interrupted",
     "output_type": "error",
     "traceback": []
    }
   ],
   "execution_count": 3
  },
  {
   "metadata": {
    "ExecuteTime": {
     "end_time": "2025-04-29T04:25:26.968405Z",
     "start_time": "2025-04-29T04:25:26.783358Z"
    }
   },
   "cell_type": "code",
   "source": [
    "runBlocking {\n",
    "    val channel = Channel<Int>()\n",
    "\n",
    "    launch {\n",
    "        for (x in 1..10) {\n",
    "            channel.send(x)\n",
    "        }\n",
    "\n",
    "        channel.close()\n",
    "    }\n",
    "\n",
    "    for (x in channel) {\n",
    "        println(x)\n",
    "    }\n",
    "\n",
    "    println(\"Done!!\")\n",
    "}"
   ],
   "outputs": [
    {
     "name": "stdout",
     "output_type": "stream",
     "text": [
      "1\n",
      "2\n",
      "3\n",
      "4\n",
      "5\n",
      "6\n",
      "7\n",
      "8\n",
      "9\n",
      "10\n",
      "Done!!\n"
     ]
    }
   ],
   "execution_count": 4
  },
  {
   "metadata": {
    "ExecuteTime": {
     "end_time": "2025-04-29T04:27:05.218985Z",
     "start_time": "2025-04-29T04:27:04.913225Z"
    }
   },
   "cell_type": "code",
   "source": [
    "// 생산자(producer)와 소비자(consumer)는 굉장히 일반적인 패턴입니다. 채널을 이용해서 한 쪽에서 데이터를 만들고 다른 쪽에서 받는 것을 도와주는 확장 함수들이 있음\n",
    "// - produce 코루틴을 만들고 채널을 재공\n",
    "// - consumeEach 채널에서 반복해서 데이터를 제공\n",
    "\n",
    "runBlocking {\n",
    "    val oneToTen = produce {\n",
    "        for (x in 1..10) {\n",
    "            channel.send(x)\n",
    "        }\n",
    "    }\n",
    "\n",
    "    oneToTen.consumeEach {\n",
    "        println(it)\n",
    "    }\n",
    "\n",
    "    println(\"Done!!\")\n",
    "}"
   ],
   "outputs": [
    {
     "name": "stdout",
     "output_type": "stream",
     "text": [
      "1\n",
      "2\n",
      "3\n",
      "4\n",
      "5\n",
      "6\n",
      "7\n",
      "8\n",
      "9\n",
      "10\n",
      "Done!!\n"
     ]
    }
   ],
   "execution_count": 5
  },
  {
   "metadata": {
    "ExecuteTime": {
     "end_time": "2025-04-29T06:14:03.267567Z",
     "start_time": "2025-04-29T06:14:02.964925Z"
    }
   },
   "cell_type": "code",
   "source": [
    "// 파이프라인\n",
    "// - 하나의 스트림을 프로듀서가 만들고, 다른 코루틴에서 그 스트림을 읽어 새로운 스트림을 만드는 패턴.\n",
    "fun CoroutineScope.produceNumbers() = produce<Int> {\n",
    "    var x = 1\n",
    "    while (true) {\n",
    "        send(x++)\n",
    "    }\n",
    "}\n",
    "\n",
    "fun CoroutineScope.produceStringNumbers(numbers: ReceiveChannel<Int>): ReceiveChannel<String> = produce {\n",
    "    for (i in numbers) {\n",
    "        send(\"${i}\")\n",
    "    }\n",
    "}\n",
    "\n",
    "runBlocking {\n",
    "    val numbers = produceNumbers()\n",
    "    val stringNumbers = produceStringNumbers(numbers)\n",
    "\n",
    "    repeat(5) {\n",
    "        println(stringNumbers.receive())\n",
    "    }\n",
    "\n",
    "    println(\"done!!\")\n",
    "    coroutineContext.cancelChildren()\n",
    "}"
   ],
   "outputs": [
    {
     "name": "stdout",
     "output_type": "stream",
     "text": [
      "1\n",
      "2\n",
      "3\n",
      "4\n",
      "5\n",
      "done!!\n"
     ]
    }
   ],
   "execution_count": 8
  },
  {
   "metadata": {
    "ExecuteTime": {
     "end_time": "2025-04-29T06:16:49.353311Z",
     "start_time": "2025-04-29T06:16:49.098969Z"
    }
   },
   "cell_type": "code",
   "source": [
    "fun CoroutineScope.produceNumbers() = produce<Int> {\n",
    "    var x = 1\n",
    "    while (true) {\n",
    "        send(x++)\n",
    "    }\n",
    "}\n",
    "\n",
    "fun CoroutineScope.filterOdd(numbers: ReceiveChannel<Int>): ReceiveChannel<String> = produce {\n",
    "    for (i in numbers) {\n",
    "        if (i % 2 == 1) {\n",
    "            send(\"${i}!!\")\n",
    "        }\n",
    "    }\n",
    "}\n",
    "\n",
    "runBlocking<Unit> {\n",
    "    val numbers = produceNumbers()\n",
    "    val oddNumbers = filterOdd(numbers)\n",
    "\n",
    "    repeat(10) {\n",
    "        println(oddNumbers.receive())\n",
    "    }\n",
    "\n",
    "    println(\"done!!\")\n",
    "    coroutineContext.cancelChildren()\n",
    "}"
   ],
   "outputs": [
    {
     "name": "stdout",
     "output_type": "stream",
     "text": [
      "1!!\n",
      "3!!\n",
      "5!!\n",
      "7!!\n",
      "9!!\n",
      "11!!\n",
      "13!!\n",
      "15!!\n",
      "17!!\n",
      "19!!\n",
      "done!!\n"
     ]
    }
   ],
   "execution_count": 9
  },
  {
   "metadata": {
    "ExecuteTime": {
     "end_time": "2025-04-29T06:20:06.231491Z",
     "start_time": "2025-04-29T06:20:06.020295Z"
    }
   },
   "cell_type": "code",
   "source": [
    "fun CoroutineScope.numbersFrom(start: Int) = produce<Int> {\n",
    "    var x = start\n",
    "    while(true) {\n",
    "        send(x++)\n",
    "    }\n",
    "}\n",
    "\n",
    "fun CoroutineScope.filter(numbers: ReceiveChannel<Int>, prime: Int): ReceiveChannel<Int> = produce{\n",
    "    for (i in numbers) {\n",
    "        if (i % prime != 0) {\n",
    "            send(i)\n",
    "        }\n",
    "    }\n",
    "}\n",
    "\n",
    "runBlocking<Unit> {\n",
    "    var numbers = numbersFrom(2)\n",
    "\n",
    "    repeat(10) {\n",
    "        val prime = numbers.receive()\n",
    "        println(prime)\n",
    "        numbers = filter(numbers, prime)\n",
    "    }\n",
    "\n",
    "    println(\"done!!\")\n",
    "    coroutineContext.cancelChildren()\n",
    "}"
   ],
   "outputs": [
    {
     "name": "stdout",
     "output_type": "stream",
     "text": [
      "2\n",
      "3\n",
      "5\n",
      "7\n",
      "11\n",
      "13\n",
      "17\n",
      "19\n",
      "23\n",
      "29\n",
      "done!!\n"
     ]
    }
   ],
   "execution_count": 10
  },
  {
   "metadata": {
    "ExecuteTime": {
     "end_time": "2025-04-29T06:22:40.899863Z",
     "start_time": "2025-04-29T06:22:39.718958Z"
    }
   },
   "cell_type": "code",
   "source": [
    "fun CoroutineScope.produceNumbers() = produce<Int> {\n",
    "    var x = 1\n",
    "    while(true) {\n",
    "        send(x++)\n",
    "        delay(100L)\n",
    "    }\n",
    "}\n",
    "\n",
    "fun CoroutineScope.processNumber(id: Int, channel: ReceiveChannel<Int>) = launch {\n",
    "    channel.consumeEach {\n",
    "        println(\"${id}가 ${it}을 받았습니다.\")\n",
    "    }\n",
    "}\n",
    "\n",
    "// 여러 코루틴이 동시에 채널을 구독\n",
    "runBlocking {\n",
    "    val producer = produceNumbers()\n",
    "\n",
    "    repeat(5) {\n",
    "        processNumber(it, producer)\n",
    "    }\n",
    "\n",
    "    delay(1000L)\n",
    "    producer.cancel()\n",
    "}"
   ],
   "outputs": [
    {
     "name": "stdout",
     "output_type": "stream",
     "text": [
      "0가 1을 받았습니다.\n",
      "0가 2을 받았습니다.\n",
      "1가 3을 받았습니다.\n",
      "2가 4을 받았습니다.\n",
      "3가 5을 받았습니다.\n",
      "4가 6을 받았습니다.\n",
      "0가 7을 받았습니다.\n",
      "1가 8을 받았습니다.\n",
      "2가 9을 받았습니다.\n",
      "3가 10을 받았습니다.\n"
     ]
    }
   ],
   "execution_count": 11
  },
  {
   "metadata": {
    "ExecuteTime": {
     "end_time": "2025-04-29T06:26:06.275129Z",
     "start_time": "2025-04-29T06:26:05.050002Z"
    }
   },
   "cell_type": "code",
   "source": [
    "suspend fun produceNumbers(channel: SendChannel<Int>, from: Int, interval: Long) {\n",
    "    var x = from\n",
    "    while(true) {\n",
    "        channel.send(x)\n",
    "        x += 2\n",
    "        delay(interval)\n",
    "    }\n",
    "}\n",
    "\n",
    "fun CoroutineScope.processNumber(channel: ReceiveChannel<Int>) = launch {\n",
    "    channel.consumeEach {\n",
    "        println(\"${it}을 받았습니다.\")\n",
    "    }\n",
    "}\n",
    "\n",
    "// 팬 인은 반대로 생산자가 많은 것\n",
    "runBlocking {\n",
    "    val channel = Channel<Int>()\n",
    "\n",
    "    launch {\n",
    "        produceNumbers(channel, 1, 100L)\n",
    "    }\n",
    "\n",
    "    launch {\n",
    "        produceNumbers(channel, 2, 150L)\n",
    "    }\n",
    "\n",
    "    processNumber(channel)\n",
    "    delay(1_000L)\n",
    "    coroutineContext.cancelChildren()\n",
    "}"
   ],
   "outputs": [
    {
     "name": "stdout",
     "output_type": "stream",
     "text": [
      "1을 받았습니다.\n",
      "2을 받았습니다.\n",
      "3을 받았습니다.\n",
      "4을 받았습니다.\n",
      "5을 받았습니다.\n",
      "6을 받았습니다.\n",
      "7을 받았습니다.\n",
      "9을 받았습니다.\n",
      "8을 받았습니다.\n",
      "11을 받았습니다.\n",
      "10을 받았습니다.\n",
      "13을 받았습니다.\n",
      "15을 받았습니다.\n",
      "12을 받았습니다.\n",
      "17을 받았습니다.\n",
      "14을 받았습니다.\n",
      "19을 받았습니다.\n"
     ]
    }
   ],
   "execution_count": 12
  },
  {
   "metadata": {
    "ExecuteTime": {
     "end_time": "2025-04-29T06:29:27.501867Z",
     "start_time": "2025-04-29T06:29:26.309433Z"
    }
   },
   "cell_type": "code",
   "source": [
    "suspend fun someone(channel: Channel<String>, name: String) {\n",
    "    for (comment in channel) {\n",
    "        println(\"${name}: ${comment}\")\n",
    "        channel.send(comment.drop(1) + comment.first())\n",
    "        delay(100L)\n",
    "    }\n",
    "}\n",
    "\n",
    "runBlocking { // 두 개의 코루틴에서 채널을 서로 사용할 때 공정하게 기회를 줌\n",
    "    val channel = Channel<String>()\n",
    "\n",
    "    launch {\n",
    "        someone(channel, \"yeonuel\")\n",
    "    }\n",
    "\n",
    "    launch {\n",
    "        someone(channel, \"seyeoun\")\n",
    "    }\n",
    "\n",
    "    channel.send(\"sodam campus\")\n",
    "    delay(1_000L)\n",
    "    coroutineContext.cancelChildren()\n",
    "}"
   ],
   "outputs": [
    {
     "name": "stdout",
     "output_type": "stream",
     "text": [
      "yeonuel: sodam campus\n",
      "seyeoun: odam campuss\n",
      "yeonuel: dam campusso\n",
      "seyeoun: am campussod\n",
      "yeonuel: m campussoda\n",
      "seyeoun:  campussodam\n",
      "yeonuel: campussodam \n",
      "seyeoun: ampussodam c\n",
      "yeonuel: mpussodam ca\n",
      "seyeoun: pussodam cam\n",
      "yeonuel: ussodam camp\n"
     ]
    }
   ],
   "execution_count": 13
  },
  {
   "metadata": {
    "ExecuteTime": {
     "end_time": "2025-04-29T06:36:08.328994Z",
     "start_time": "2025-04-29T06:36:07.868099Z"
    }
   },
   "cell_type": "code",
   "source": [
    "import kotlinx.coroutines.selects.*\n",
    "\n",
    "fun CoroutineScope.saySodam() = produce<String> {\n",
    "    while(true) {\n",
    "        delay(100L)\n",
    "        send(\"sodam\")\n",
    "    }\n",
    "}\n",
    "\n",
    "fun CoroutineScope.sayCampus() = produce<String> {\n",
    "    while (true) {\n",
    "        delay(150L)\n",
    "        send(\"campus\")\n",
    "    }\n",
    "}\n",
    "\n",
    "// 먼저 끝나는 요청을 처리하는 것이 중요할 수 있음\n",
    "// 위 경우에는 select를 사용할 수 있음\n",
    "runBlocking<Unit> {\n",
    "    val sodam = saySodam()\n",
    "    val campus = sayCampus()\n",
    "    repeat(5) {\n",
    "        select<Unit>  {\n",
    "            sodam.onReceive {\n",
    "                println(\"sodam: $it\")\n",
    "            }\n",
    "\n",
    "            campus.onReceive {\n",
    "                println(\"campus: $it\")\n",
    "            }\n",
    "        }\n",
    "    }\n",
    "    coroutineContext.cancelChildren()\n",
    "}"
   ],
   "outputs": [
    {
     "name": "stdout",
     "output_type": "stream",
     "text": [
      "sodam: sodam\n",
      "campus: campus\n",
      "sodam: sodam\n",
      "campus: campus\n",
      "sodam: sodam\n"
     ]
    }
   ],
   "execution_count": 20
  },
  {
   "metadata": {
    "ExecuteTime": {
     "end_time": "2025-04-29T06:38:49.336571Z",
     "start_time": "2025-04-29T06:38:47.182692Z"
    }
   },
   "cell_type": "code",
   "source": [
    "runBlocking<Unit> {\n",
    "    val channel = Channel<Int>(10)\n",
    "\n",
    "    launch {\n",
    "        for (x in 1..20) {\n",
    "            println(\"${x} 전송중\")\n",
    "            channel.send(x)\n",
    "        }\n",
    "\n",
    "        channel.close()\n",
    "    }\n",
    "\n",
    "    for (x in channel) {\n",
    "        println(\"${x} 수신\")\n",
    "        delay(100L)\n",
    "    }\n",
    "\n",
    "    println(\"Done!!\")\n",
    "}"
   ],
   "outputs": [
    {
     "name": "stdout",
     "output_type": "stream",
     "text": [
      "1 전송중\n",
      "2 전송중\n",
      "3 전송중\n",
      "4 전송중\n",
      "5 전송중\n",
      "6 전송중\n",
      "7 전송중\n",
      "8 전송중\n",
      "9 전송중\n",
      "10 전송중\n",
      "11 전송중\n",
      "12 전송중\n",
      "1 수신\n",
      "2 수신\n",
      "13 전송중\n",
      "3 수신\n",
      "14 전송중\n",
      "4 수신\n",
      "15 전송중\n",
      "5 수신\n",
      "16 전송중\n",
      "6 수신\n",
      "17 전송중\n",
      "7 수신\n",
      "18 전송중\n",
      "8 수신\n",
      "19 전송중\n",
      "9 수신\n",
      "20 전송중\n",
      "10 수신\n",
      "11 수신\n",
      "12 수신\n",
      "13 수신\n",
      "14 수신\n",
      "15 수신\n",
      "16 수신\n",
      "17 수신\n",
      "18 수신\n",
      "19 수신\n",
      "20 수신\n",
      "Done!!\n"
     ]
    }
   ],
   "execution_count": 23
  },
  {
   "metadata": {
    "ExecuteTime": {
     "end_time": "2025-04-29T06:41:08.318219Z",
     "start_time": "2025-04-29T06:41:06.119614Z"
    }
   },
   "cell_type": "code",
   "source": [
    "runBlocking {\n",
    "    val channel = Channel<Int>(Channel.RENDEZVOUS) // 버퍼 사이즈를 랑데뷰(Channel.RENDEZVOUS)로 지정\n",
    "    // 랑데뷰는 버퍼 사이즈를 0으로 지정하는 것\n",
    "\n",
    "    launch {\n",
    "        for (x in 1..20) {\n",
    "            println(\"${x} 전송중\")\n",
    "            channel.send(x)\n",
    "        }\n",
    "\n",
    "        channel.close()\n",
    "    }\n",
    "\n",
    "    for (x in channel) {\n",
    "        println(\"${x} 수신\")\n",
    "        delay(100L)\n",
    "    }\n",
    "\n",
    "    println(\"done!!\")\n",
    "}"
   ],
   "outputs": [
    {
     "name": "stdout",
     "output_type": "stream",
     "text": [
      "1 전송중\n",
      "2 전송중\n",
      "1 수신\n",
      "2 수신\n",
      "3 전송중\n",
      "3 수신\n",
      "4 전송중\n",
      "4 수신\n",
      "5 전송중\n",
      "5 수신\n",
      "6 전송중\n",
      "6 수신\n",
      "7 전송중\n",
      "7 수신\n",
      "8 전송중\n",
      "8 수신\n",
      "9 전송중\n",
      "9 수신\n",
      "10 전송중\n",
      "10 수신\n",
      "11 전송중\n",
      "11 수신\n",
      "12 전송중\n",
      "12 수신\n",
      "13 전송중\n",
      "13 수신\n",
      "14 전송중\n",
      "14 수신\n",
      "15 전송중\n",
      "15 수신\n",
      "16 전송중\n",
      "16 수신\n",
      "17 전송중\n",
      "17 수신\n",
      "18 전송중\n",
      "18 수신\n",
      "19 전송중\n",
      "19 수신\n",
      "20 전송중\n",
      "20 수신\n",
      "done!!\n"
     ]
    }
   ],
   "execution_count": 24
  },
  {
   "metadata": {
    "ExecuteTime": {
     "end_time": "2025-04-29T06:43:43.354949Z",
     "start_time": "2025-04-29T06:43:42.529332Z"
    }
   },
   "cell_type": "code",
   "source": [
    "/**\n",
    " * SUSPEND - 잠이 들었다 깨어남.\n",
    " * DROP_OLDEST - 예전 데이터를 지움.\n",
    " * DROP_LATEST - 새 데이터를 지움.\n",
    " */\n",
    "runBlocking<Unit> {\n",
    "    val channel = Channel<Int>(2, BufferOverflow.DROP_OLDEST)\n",
    "\n",
    "    launch {\n",
    "        for (x in 1..50) {\n",
    "            channel.send(x)\n",
    "        }\n",
    "\n",
    "        channel.close()\n",
    "    }\n",
    "\n",
    "    delay(500L)\n",
    "\n",
    "    for (x in channel) {\n",
    "        println(\"${x} 수신\")\n",
    "        delay(100L)\n",
    "    }\n",
    "\n",
    "    println(\"Done!!\")\n",
    "}"
   ],
   "outputs": [
    {
     "name": "stdout",
     "output_type": "stream",
     "text": [
      "49 수신\n",
      "50 수신\n",
      "Done!!\n"
     ]
    }
   ],
   "execution_count": 26
  },
  {
   "metadata": {},
   "cell_type": "code",
   "outputs": [],
   "execution_count": null,
   "source": ""
  }
 ],
 "metadata": {
  "kernelspec": {
   "display_name": "Kotlin",
   "language": "kotlin",
   "name": "kotlin"
  },
  "language_info": {
   "name": "kotlin",
   "version": "1.9.23",
   "mimetype": "text/x-kotlin",
   "file_extension": ".kt",
   "pygments_lexer": "kotlin",
   "codemirror_mode": "text/x-kotlin",
   "nbconvert_exporter": ""
  }
 },
 "nbformat": 4,
 "nbformat_minor": 0
}
